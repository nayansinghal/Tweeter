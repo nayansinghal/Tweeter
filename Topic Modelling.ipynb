{
 "cells": [
  {
   "cell_type": "code",
   "execution_count": 19,
   "metadata": {
    "collapsed": false
   },
   "outputs": [],
   "source": [
    "import tweepy\n",
    "import time\n",
    "import argparse\n",
    "import string\n",
    "import json\n",
    "import os\n",
    "import sys\n",
    "import re\n",
    "import operator \n",
    "import gensim\n",
    "import pprint\n",
    "import unicodedata\n",
    "import langid\n",
    "import matplotlib.pyplot as plt\n",
    "import numpy as np\n",
    "from collections import Counter\n",
    "from collections import defaultdict\n",
    "from gensim import corpora\n",
    "from nltk import bigrams\n",
    "from nltk.corpus import stopwords\n",
    "from nltk.tokenize import word_tokenize\n",
    "from nltk.stem.wordnet import WordNetLemmatizer\n",
    "from sklearn import metrics\n",
    "from sklearn.cluster import KMeans\n",
    "from gensim import corpora, models\n",
    "import pyLDAvis.gensim"
   ]
  },
  {
   "cell_type": "code",
   "execution_count": 9,
   "metadata": {
    "collapsed": false
   },
   "outputs": [
    {
     "name": "stdout",
     "output_type": "stream",
     "text": [
      "23556\n",
      "121095\n",
      "182822\n"
     ]
    }
   ],
   "source": [
    "fname = 'Twitter/data/Data_backup/stream_Empire.json'\n",
    "texts = []\n",
    "count  = 0\n",
    "with open(fname, 'r') as f:\n",
    "    for line in f:\n",
    "        try:\n",
    "            tweet = json.loads(line)\n",
    "            if '#empire' in tweet['text'].lower():\n",
    "                texts.append(tweet)\n",
    "        except:\n",
    "            continue\n",
    "\n",
    "print len(texts)\n",
    "\n",
    "fname = 'Twitter/data/Data_backup/stream__Empire.json'\n",
    "with open(fname, 'r') as f:\n",
    "    for line in f:\n",
    "        try:\n",
    "            tweet = json.loads(line)\n",
    "            texts.append(tweet)\n",
    "        except:\n",
    "            continue\n",
    "            \n",
    "print len(texts)\n",
    "\n",
    "fname = 'Twitter/data/stream__Empire.json'\n",
    "with open(fname, 'r') as f:\n",
    "    for line in f:\n",
    "        try:\n",
    "            tweet = json.loads(line)\n",
    "            texts.append(tweet)\n",
    "        except:\n",
    "            continue\n",
    "\n",
    "print len(texts)"
   ]
  },
  {
   "cell_type": "code",
   "execution_count": 10,
   "metadata": {
    "collapsed": false
   },
   "outputs": [
    {
     "name": "stdout",
     "output_type": "stream",
     "text": [
      "77803\n"
     ]
    }
   ],
   "source": [
    "impTexts = []\n",
    "for tweet in texts:\n",
    "    if \"created_at\" in tweet and 'Dec' in tweet['created_at'] and '15' in tweet['created_at'][8:10]:\n",
    "        impTexts.append(tweet)\n",
    "\n",
    "print len(impTexts)"
   ]
  },
  {
   "cell_type": "code",
   "execution_count": 12,
   "metadata": {
    "collapsed": false
   },
   "outputs": [],
   "source": [
    "emoticons_str = r\"\"\"\n",
    "\t(?:\n",
    "\t\t[:=;] # Eyes\n",
    "\t\t[oO\\-]? # Nose (optional)\n",
    "\t\t[D\\)\\]\\(\\]/\\\\OpP] # Mouth\n",
    "\t)\"\"\"\n",
    " \n",
    "regex_str = [\n",
    "\temoticons_str,\n",
    "\tr'<[^>]+>', # HTML tags\n",
    "\tr'(?:@[\\w_]+)', # @-mentions\n",
    "\tr\"(?:\\#+[\\w_]+[\\w\\'_\\-]*[\\w_]+)\", # hash-tags\n",
    "\tr'http[s]?://(?:[a-z]|[0-9]|[$-_@.&amp;+]|[!*\\(\\),]|(?:%[0-9a-f][0-9a-f]))+', # URLs\n",
    " \n",
    "\tr'(?:(?:\\d+,?)+(?:\\.?\\d+)?)', # numbers\n",
    "\tr\"(?:[a-z][a-z'\\-_]+[a-z])\", # words with - and '\n",
    "\tr'(?:[\\w_]+)', # other words\n",
    "\tr'(?:\\S)' # anything else\n",
    "]\n",
    "\t\n",
    "tokens_re = re.compile(r'('+'|'.join(regex_str)+')', re.VERBOSE | re.IGNORECASE)\n",
    "emoticon_re = re.compile(r'^'+emoticons_str+'$', re.VERBOSE | re.IGNORECASE)\n",
    " \n",
    "def tokenize(s):\n",
    "\treturn tokens_re.findall(s)\n",
    "\n",
    "def filter_lang(lang, document):\n",
    "\n",
    "\tdoclang = langid.classify(document)\n",
    "\treturn doclang[0]\n",
    "\t##return [documents[k] for k in range(len(documents)) if doclang[k][0] == lang\n",
    "\n",
    "def preprocess(s, lowercase=False):\n",
    "\n",
    "\ttokens = tokenize(s)\n",
    "\tif lowercase:\n",
    "\t\ttokens = [token if emoticon_re.search(token) else token.lower() for token in tokens]\n",
    "\treturn tokens\n",
    "\n",
    "# Remove stop words\n",
    "stoplist_tw=['amp','get','got','hey','hmm','hoo','hop','iep','let','ooo','par',\n",
    "\t\t\t'pdt','pln','pst','wha','yep','yer','yet','aest','didn','nzdt','via',\n",
    "\t\t\t'one','com','new','like','great','make','top','awesome','best',\n",
    "\t\t\t'good','wow','yes','say','yay','would','thanks','thank','going',\n",
    "\t\t\t'new','use','should','could','best','really','see','want','nice',\n",
    "\t\t\t'while','know', 'rt', 'via', 'it', 'u', 'c', 'co', 'http', 'w', 'r', '1', '2', '3',\n",
    "\t\t\t'gt', 'v', 'It', 'e', 'k', 'gg']\n",
    "\n",
    "punctuation = list(string.punctuation)\n",
    "stop = set(stopwords.words('english') + stoplist_tw) \n",
    "exclude = set(string.punctuation)\n",
    "lemma = WordNetLemmatizer()\n",
    "\n",
    "\n",
    "def clean(text):\n",
    "\ttext=re.sub('[^a-z0-9 ]',' ',text.lower())\n",
    "\ttext=re.sub('  +',' ', text).strip()\n",
    "\tstop_free = [i for i in text.split(' ') if i not in stop]\n",
    "\tnormalized = [lemma.lemmatize(word) for word in stop_free]\n",
    "\treturn ' '.join(normalized)\n"
   ]
  },
  {
   "cell_type": "code",
   "execution_count": 13,
   "metadata": {
    "collapsed": true
   },
   "outputs": [],
   "source": [
    "ldaTexts = []\n",
    "for tweet in impTexts:\n",
    "    if filter_lang('en', tweet['text']) == \"en\":\n",
    "        ldaTexts.append(clean(tweet['text']).split())"
   ]
  },
  {
   "cell_type": "code",
   "execution_count": 15,
   "metadata": {
    "collapsed": true
   },
   "outputs": [],
   "source": [
    "token_frequency = defaultdict(int)\n",
    "# count all token\n",
    "for doc in ldaTexts:\n",
    "    for token in doc:\n",
    "        token_frequency[token] += 1"
   ]
  },
  {
   "cell_type": "code",
   "execution_count": 16,
   "metadata": {
    "collapsed": true
   },
   "outputs": [],
   "source": [
    "# keep words that occur more than once\n",
    "cleanTexts = [ [token for token in doc if token_frequency[token] > 1] for doc in ldaTexts ]"
   ]
  },
  {
   "cell_type": "code",
   "execution_count": 17,
   "metadata": {
    "collapsed": false
   },
   "outputs": [],
   "source": [
    "# Creating the term dictionary of our courpus, where every unique term is assigned an index.\n",
    "dictionary = corpora.Dictionary(cleanTexts)\n",
    "dictionary.save('Twitter/output/dictionary.dict')\n",
    "\n",
    "bow_corpus = [dictionary.doc2bow(doc) for doc in cleanTexts]\n",
    "corpora.MmCorpus.serialize('Twitter/output/corpus.mm', bow_corpus)"
   ]
  },
  {
   "cell_type": "code",
   "execution_count": 18,
   "metadata": {
    "collapsed": false
   },
   "outputs": [
    {
     "name": "stdout",
     "output_type": "stream",
     "text": [
      "lda saved in Twitter/output/document.lda \n"
     ]
    }
   ],
   "source": [
    "## apply LDA\n",
    "lda = gensim.models.ldamodel.LdaModel(bow_corpus, num_topics=3, id2word = dictionary, passes=20)\n",
    "lda_corpus = lda[bow_corpus]\n",
    "\n",
    "lda.save('Twitter/output/document.lda')\n",
    "print(\"lda saved in %s \" % 'Twitter/output/document.lda')"
   ]
  },
  {
   "cell_type": "code",
   "execution_count": 21,
   "metadata": {
    "collapsed": false
   },
   "outputs": [],
   "source": [
    "corpus = corpora.MmCorpus('Twitter/output/corpus.mm')\n",
    "dictionary = corpora.Dictionary.load('Twitter/output/dictionary.dict')"
   ]
  },
  {
   "cell_type": "code",
   "execution_count": 31,
   "metadata": {
    "collapsed": false
   },
   "outputs": [],
   "source": [
    "lda = models.LdaModel.load('Twitter/output/document.lda')\n",
    "topic_data =  pyLDAvis.gensim.prepare(lda, corpus, dictionary)\n",
    "pyLDAvis.display(topic_data)\n",
    "pyLDAvis.save_html(topic_data, 'Twitter/output/LdaModel.html')"
   ]
  },
  {
   "cell_type": "code",
   "execution_count": 23,
   "metadata": {
    "collapsed": false
   },
   "outputs": [
    {
     "data": {
      "text/plain": [
       "[(0,\n",
       "  u'0.111*\"empire\" + 0.044*\"andre\" + 0.029*\"http\" + 0.025*\"rhonda\" + 0.024*\"bet\" + 0.019*\"hakeem\" + 0.016*\"take\" + 0.015*\"oh\" + 0.015*\"lucious\" + 0.014*\"heart\"'),\n",
       " (1,\n",
       "  u'0.144*\"http\" + 0.104*\"empire\" + 0.059*\"empirefox\" + 0.047*\"star\" + 0.022*\"finale\" + 0.019*\"felizjueves\" + 0.016*\"fall\" + 0.010*\"tonight\" + 0.009*\"retweet\" + 0.008*\"leedanielsent\"'),\n",
       " (2,\n",
       "  u'0.124*\"empire\" + 0.042*\"jamal\" + 0.026*\"cookie\" + 0.019*\"jussiesmollett\" + 0.016*\"lucious\" + 0.015*\"empirefox\" + 0.011*\"luscious\" + 0.011*\"rehab\" + 0.010*\"go\" + 0.009*\"empirewednesday\"')]"
      ]
     },
     "execution_count": 23,
     "metadata": {},
     "output_type": "execute_result"
    }
   ],
   "source": [
    "lda.show_topics()"
   ]
  },
  {
   "cell_type": "code",
   "execution_count": 24,
   "metadata": {
    "collapsed": false
   },
   "outputs": [
    {
     "name": "stdout",
     "output_type": "stream",
     "text": [
      "lda saved in Twitter/output/document_t10.lda \n"
     ]
    }
   ],
   "source": [
    "## apply LDA\n",
    "lda = gensim.models.ldamodel.LdaModel(bow_corpus, num_topics=10, id2word = dictionary, passes=20)\n",
    "lda_corpus = lda[bow_corpus]\n",
    "\n",
    "lda.save('Twitter/output/document_t10.lda')\n",
    "print(\"lda saved in %s \" % 'Twitter/output/document_t10.lda')"
   ]
  },
  {
   "cell_type": "code",
   "execution_count": 25,
   "metadata": {
    "collapsed": false
   },
   "outputs": [
    {
     "data": {
      "text/html": [
       "\n",
       "<link rel=\"stylesheet\" type=\"text/css\" href=\"https://cdn.rawgit.com/bmabey/pyLDAvis/files/ldavis.v1.0.0.css\">\n",
       "\n",
       "\n",
       "<div id=\"ldavis_el4105168297965604224085897\"></div>\n",
       "<script type=\"text/javascript\">\n",
       "\n",
       "var ldavis_el4105168297965604224085897_data = {\"plot.opts\": {\"xlab\": \"PC1\", \"ylab\": \"PC2\"}, \"topic.order\": [4, 2, 7, 3, 6, 5, 1, 10, 8, 9], \"token.table\": {\"Topic\": [7, 7, 4, 7, 8, 4, 10, 6, 1, 1, 4, 5, 5, 4, 5, 6, 5, 6, 2, 7, 1, 7, 6, 3, 10, 9, 1, 3, 7, 1, 8, 5, 6, 3, 10, 5, 9, 3, 7, 1, 3, 1, 9, 6, 2, 3, 9, 5, 1, 8, 10, 3, 6, 7, 8, 1, 2, 5, 1, 3, 7, 6, 2, 2, 3, 6, 8, 8, 1, 6, 9, 6, 1, 5, 4, 3, 9, 6, 10, 10, 5, 3, 1, 2, 3, 4, 5, 6, 7, 8, 9, 10, 1, 2, 5, 6, 2, 3, 6, 7, 9, 6, 7, 7, 7, 4, 7, 8, 8, 10, 7, 1, 1, 4, 5, 1, 8, 7, 5, 8, 10, 8, 1, 4, 5, 8, 1, 10, 9, 7, 4, 5, 4, 7, 5, 7, 10, 6, 2, 4, 2, 3, 9, 2, 8, 2, 9, 2, 6, 7, 10, 2, 7, 2, 7, 4, 8, 8, 9, 9, 9, 8, 8, 7, 10, 4, 7, 9, 1, 8, 10, 2, 2, 5, 9, 1, 1, 4, 5, 8, 7, 5, 5, 4, 6, 6, 4, 2, 3, 2, 3, 6, 8, 10, 9, 4, 1, 9, 8, 1, 3, 3, 9, 6, 4, 3, 3, 7, 4, 7, 1, 8, 1, 2, 10, 10, 3, 5, 7, 10, 8, 4, 3, 3, 9, 1, 3, 10, 2, 3, 10, 7, 9, 4, 3, 1, 1, 4, 7, 3, 7, 8, 4, 10, 3, 5, 1, 5, 9, 10, 4, 5, 2, 2, 4, 6, 8, 2, 4, 7, 1, 7, 3, 10, 1, 2, 10, 10, 5, 8, 2, 6, 8, 6, 4, 9, 9, 3, 5, 2, 6, 2, 9, 10, 6, 5, 5, 4, 4, 5, 10, 4, 4, 7, 5, 4, 6, 1, 5, 2, 9, 3, 7, 2, 6, 3, 5, 3, 2, 10, 6, 3, 8, 4, 7, 6, 3, 3, 10, 2, 6, 8, 4, 8, 6, 8, 10, 7, 6, 2, 4, 3, 4, 8, 6, 4, 7, 9, 3, 10, 3, 2, 9, 1, 2, 6, 2, 2, 7, 8, 7, 9, 10, 1, 2, 10, 8, 2, 6, 7, 1, 1, 4, 5, 10, 10, 9, 5, 9, 10, 10, 9, 7, 4, 3, 2, 10, 1, 4, 8, 5, 2, 9, 8, 10, 1, 10, 9, 6, 1, 1, 5], \"Freq\": [0.99816397621429476, 0.99751357003803276, 0.99929281252134083, 0.99774289271086714, 0.99676344173862608, 0.99799866244337798, 0.99645127879162332, 0.99727515488771956, 0.99964165350986589, 0.99906117371879977, 0.99874145180501772, 0.99807574718095782, 0.99924239347823562, 0.99884032171840431, 0.99617950148307843, 0.99693827410317881, 0.99915778144948919, 0.99492038504902947, 0.99984644382155707, 0.99910126613085515, 0.99931043777158823, 0.99869159486081771, 0.99310914688814333, 0.99913139574914045, 0.99718979611366909, 0.99968253358607151, 0.99687191884622006, 0.99867608801622154, 0.99966226163638694, 0.99938622426631063, 0.99666731689053811, 0.99759060153483248, 0.99565635656358897, 0.99885658013965828, 0.99776815265824603, 0.99813861411703619, 0.99823604020299228, 0.99932968698557612, 0.99684510019031036, 0.99808276966836984, 0.99691194013039441, 0.99756025230407808, 0.99984931604606953, 0.99399421090092277, 0.13117952950772946, 0.8650758162131349, 0.99551671081655824, 0.99825397157024964, 0.9977265548226314, 0.99532821655041481, 0.99515907727306296, 0.99972064709494457, 0.65781337915643667, 0.34234160730682939, 0.99719740189756634, 0.51073540849976462, 0.35625507507642601, 0.13282214647700497, 0.99875853898488554, 0.19255882314254827, 0.80698315958212974, 0.99687120936362916, 0.99828225895893463, 0.20252745369718375, 0.55305573894230953, 0.2443075927466028, 0.99490953588080422, 0.99453830327044634, 0.99800882087979681, 0.99633807155754939, 0.99636420914606849, 0.99945709588698339, 0.99944184362437727, 0.99617950148307843, 0.99697807282701756, 0.9964768775195435, 0.99750216792679736, 0.99907416921984837, 0.99624155535989156, 0.99757142680367916, 0.99726198848091296, 0.99795240234041593, 0.11585736306554868, 0.1274169969729578, 0.10996567868693372, 0.08746168170912276, 0.11555904993245425, 0.14128855766184872, 0.087126079434391532, 0.072490091341946131, 0.072434157629490931, 0.070439188551921939, 0.37712133239882889, 0.064220740320317909, 0.44518497087410253, 0.11343939745878941, 0.23778443003581279, 0.14602529313402612, 0.39466295441628679, 0.070052674408890903, 0.15145190875725006, 0.99681867377195099, 0.99783567959724351, 0.99867140896738049, 0.99946627514836728, 0.40142600762548131, 0.36600606577617412, 0.23183961937728331, 0.99631226272401219, 0.99867619412427489, 0.99819703009677563, 0.99924339185925437, 0.34610703871788118, 0.27354194529707154, 0.38025531797473272, 0.99927861612442692, 0.99569962605723061, 0.99819143229046758, 0.99877565349265118, 0.99958805130769779, 0.99930005012768108, 0.99718688325646299, 0.27244265768763448, 0.41804489278548762, 0.30943778094298735, 0.99943799352228702, 0.92962948732326645, 0.069203187641930494, 0.99476984314123806, 0.99750637875201065, 0.99578605517218688, 0.99497227458429383, 0.99869833081263892, 0.99484095950834439, 0.9968791239081829, 0.99625626542111945, 0.99824552096131713, 0.99590243843789961, 0.99932638634455584, 0.99693654640945928, 0.99754697419516314, 0.99911337293229385, 0.99852082499569372, 0.99813627973159447, 0.99745973221118223, 0.99888666917600966, 0.99629516284692021, 0.1826175933304201, 0.59493884935171704, 0.15716566394638942, 0.06553871816387899, 0.51758324077910578, 0.48147278212009842, 0.99695246608434496, 0.99871535482559193, 0.99675511112988646, 0.99456949163371144, 0.99470311089717567, 0.99973418440043338, 0.99943020694265028, 0.99895018204633157, 0.99718688325646299, 0.99739364758237947, 0.99494217945030405, 0.99873104656663925, 0.99961588888557629, 0.9958679301671689, 0.99592267975773863, 0.9987855441724558, 0.38360789571008053, 0.61427408136581518, 0.9982709468458435, 0.99694578500649234, 0.99836834455302381, 0.99890646567735775, 0.99638477406688208, 0.18031847959861935, 0.17621032872086398, 0.41022820907871416, 0.23321092214971967, 0.99823197283617626, 0.99618444716977572, 0.99864584995214001, 0.99733207353685616, 0.99653700271126489, 0.99995467037712804, 0.99903904732976678, 0.9985963864854599, 0.99471353444593769, 0.17995022420847495, 0.32508249315822196, 0.38058438223401597, 0.088596183183099739, 0.025854917271332607, 0.99629516284692021, 0.99677107792007569, 0.99843662091963403, 0.99817180544555761, 0.99739364758237947, 0.99921556533469758, 0.99705195557807236, 0.9964643231246636, 0.99743276796951597, 0.99883110000745845, 0.99907661908834811, 0.99567572654506953, 0.99673822037075599, 0.99891971834861992, 0.12418687224707446, 0.87463040025439587, 0.99950934442975947, 0.99671768004292149, 0.99952000516283701, 0.99942159383506646, 0.9975868068251923, 0.99807852628460525, 0.9991791160796849, 0.99818746660233493, 0.36429047337943626, 0.63477224116760134, 0.99723668242870023, 0.99904718348052379, 0.99977888419459637, 0.99879134234261258, 0.9970186769942101, 0.43471100019735992, 0.48327415965541642, 0.082038735395163376, 0.30050673800813643, 0.69877537229988096, 0.99821902634532278, 0.99656150798560272, 0.9989576747229989, 0.99458836197714218, 0.99641536847302392, 0.99941300419487067, 0.99896470323006792, 0.99884561099242997, 0.99928109418936439, 0.99528795367068079, 0.99882142639779803, 0.99888214794005636, 0.9981379743959925, 0.99766001009637117, 0.99773744268317444, 0.99834893976086092, 0.99670204917346961, 0.9989835695347129, 0.99659015573639453, 0.99845710970825308, 0.99854953347040742, 0.99497227458429383, 0.99927547931474514, 0.29708949023385312, 0.3858495601555722, 0.31689545624944332, 0.99933208735034751, 0.99946911092178647, 0.99944133501575982, 0.99846791736267504, 0.41007298494654382, 0.58892101576435107, 0.9989917857849866, 0.99648826807545576, 0.99781391090698845, 0.99950538877966988, 0.99830371930661488, 0.99841540558479314, 0.9968791239081829, 0.99839145726278855, 0.99875478028173426, 0.99799775015945991, 0.99775017045980108, 0.99827898239688906, 0.99677107792007569, 0.99875155638002378, 0.99930640578222041, 0.99651967528726637, 0.99869259486658768, 0.99812669906759854, 0.99370380851190021, 0.99920227398577943, 0.99659168501820805, 0.9981240951712349, 0.9994893349569195, 0.99511653470785, 0.99855789043889975, 0.99872819910403521, 0.99663724514993435, 0.99759060153483248, 0.99450586834285737, 0.99676734199701389, 0.86870406914007381, 0.13141223975845065, 0.99645950606369493, 0.99685639294184714, 0.99935099732443189, 0.99858821108546947, 0.99922464695277669, 0.99976581962632805, 0.99484948273558826, 0.89016608015745657, 0.10922283192116032, 0.99819632177597928, 0.99777128261698333, 0.99801066743999844, 0.99768555245759871, 0.99907018575530915, 0.99913243623929471, 0.99700873689052727, 0.99827150476221305, 0.99727728749716904, 0.99909613397912067, 0.99967407038188238, 0.99787925821482681, 0.99712432811334473, 0.99812953552020545, 0.99985808138674515, 0.99958925991888403, 0.99754580900216161, 0.99951032733466538, 0.99917575030008587, 0.99778368161329734, 0.99716913202491642, 0.99352028172170537, 0.99650882468161428, 0.99652577607544124, 0.99784106389255856, 0.9992040593946544, 0.99812954774559937, 0.99890356290872095, 0.99936905276776467, 0.54083447710316079, 0.45904975129731701, 0.99849422964061174, 0.99938066955357108, 0.99866324839377152, 0.99637331479507685, 0.8957687469743929, 0.10335793234319918, 0.99824487236367143, 0.99818316256351125, 0.99937010894117084, 0.99802686360246706, 0.99975940698561916, 0.99933465391974763, 0.99904001599989145, 0.99917154760818394, 0.99961039602471047, 0.99456949163371144, 0.60223330471515257, 0.30977495865539795, 0.086583062978216815, 0.99883905757082758, 0.99973592412287293, 0.99604123418392243, 0.99475222352718828, 0.99582426914710165, 0.99896440817659726, 0.99954854415433059, 0.9996922877501393, 0.53573705816404227, 0.46396850886282154, 0.99507876789185457, 0.99527534811852947, 0.99642598049125641, 0.99738482028027298, 0.14734523222926829, 0.63242560350090438, 0.22019006614036721, 0.99900602094892899, 0.99800443099131086, 0.99927875778063591, 0.99932295577946362, 0.99632065976123396, 0.99935243773858373, 0.99930005012768108, 0.34877858995479666, 0.65035406247210203, 0.99440772503514185, 0.99810726514404635, 0.99819253258593021, 0.99910352846596806, 0.9959655250205468, 0.99695738925135935, 0.99924809392815139, 0.99354339280337189, 0.99806620843471949, 0.99726874334317039, 0.99827227885938785, 0.99772187777315879, 0.99706238461448904], \"Term\": [\"10\", \"2016\", \"24th\", \"4\", \"4ekoddb59p\", \"5\", \"6\", \"7\", \"7c\", \"8\", \"8c\", \"8dbwg6mett\", \"8yzswk3f7o\", \"9\", \"aguhkh0s7k\", \"almost\", \"always\", \"amazing\", \"andre\", \"angelo\", \"anika\", \"as\", \"avail\", \"away\", \"baby\", \"back\", \"bad\", \"beach\", \"bet\", \"better\", \"big\", \"bikers4trump\", \"billboard\", \"black\", \"blameghostrhonda\", \"bodyguard\", \"boo\", \"borntowin\", \"brezofficial\", \"bring\", \"brother\", \"bsp9q9fs3s\", \"building\", \"came\", \"care\", \"care\", \"cause\", \"celebrity\", \"cjayytaughther\", \"clinton\", \"coat\", \"cold\", \"come\", \"come\", \"conan\", \"cookie\", \"cookie\", \"cookie\", \"count\", \"crazy\", \"crazy\", \"cry\", \"da\", \"damn\", \"damn\", \"damn\", \"daniel\", \"day\", \"deal\", \"deep\", \"die\", \"dirt\", \"done\", \"draintheswamp\", \"dre\", \"dress\", \"dubois\", \"dumbest\", \"easily\", \"edition\", \"electoralcollege\", \"else\", \"empire\", \"empire\", \"empire\", \"empire\", \"empire\", \"empire\", \"empire\", \"empire\", \"empire\", \"empire\", \"empirefox\", \"empirefox\", \"empirefox\", \"empirefox\", \"empirewednesday\", \"empirewednesday\", \"empirewednesday\", \"empirewednesday\", \"empirewednesday\", \"empirewriters\", \"end\", \"enough\", \"epic\", \"episode\", \"episode\", \"episode\", \"even\", \"ever\", \"every\", \"evil\", \"fall\", \"fall\", \"fall\", \"family\", \"far\", \"father\", \"feelin\", \"felizjueves\", \"fetty\", \"fifth\", \"finale\", \"finale\", \"finale\", \"finally\", \"find\", \"find\", \"fingaz\", \"first\", \"foe\", \"fought\", \"fox\", \"free\", \"frisky\", \"fs9qlv0inl\", \"ft\", \"full\", \"funeral\", \"furnace\", \"fux\", \"gabbysidibe\", \"gave\", \"ghost\", \"girl\", \"giving\", \"glozell\", \"go\", \"go\", \"go\", \"go\", \"gonna\", \"gonna\", \"goodbye\", \"gotta\", \"graffiti\", \"gym\", \"h0mpplg0ko\", \"hakeem\", \"happened\", \"happy\", \"harmony\", \"hart\", \"hate\", \"head\", \"heart\", \"hell\", \"hella\", \"hello\", \"help\", \"help\", \"hillary\", \"hit\", \"hoorah\", \"hope\", \"hour\", \"http\", \"http\", \"http\", \"http\", \"iauyirbkh6\", \"imaginary\", \"insane\", \"insanity\", \"intervention\", \"jamal\", \"january\", \"jnjsj\", \"johnbasedow\", \"jussiesmollett\", \"jussiesmollett\", \"jussiesmollett\", \"jussiesmollett\", \"jussiesmollett\", \"kardashians\", \"katy\", \"keep\", \"keeping\", \"kevin\", \"kill\", \"killed\", \"king\", \"kitty\", \"knew\", \"l0d0ofuflq\", \"lady\", \"larry\", \"lasagna\", \"last\", \"last\", \"leah\", \"lee\", \"leedanielsent\", \"left\", \"leslieuggams\", \"level\", \"life\", \"literally\", \"lol\", \"lol\", \"look\", \"lost\", \"love\", \"loving\", \"lucifer\", \"lucious\", \"lucious\", \"lucious\", \"luscious\", \"luscious\", \"lyon\", \"mad\", \"made\", \"making\", \"mal\", \"mama\", \"man\", \"march\", \"meal\", \"mean\", \"meat\", \"medium\", \"mid\", \"missed\", \"mom\", \"moment\", \"mother\", \"move\", \"mr\", \"much\", \"music\", \"muthaphuckas\", \"n0hjnpdh9t\", \"need\", \"need\", \"need\", \"nessa\", \"never\", \"neweditionbet\", \"next\", \"night\", \"night\", \"nothing\", \"nuffsaidny\", \"o8ym8liqng\", \"oh\", \"olbztb8ov4\", \"omg\", \"ownage\", \"parody\", \"pay\", \"peek\", \"people\", \"performance\", \"perry\", \"pettymamii\", \"pill\", \"pipe\", \"pkwcuc3zop\", \"plan\", \"playing\", \"please\", \"plot\", \"poor\", \"post\", \"ppt50cfxwn\", \"prank\", \"premiere\", \"preview\", \"qce0u\", \"rashad\", \"read\", \"ready\", \"ready\", \"real\", \"recap\", \"rehab\", \"return\", \"retweet\", \"rhonda\", \"rid\", \"right\", \"right\", \"romantic\", \"rug\", \"ruin\", \"russian\", \"ruthless\", \"said\", \"sauce\", \"saw\", \"saying\", \"scene\", \"season\", \"secret\", \"serayah\", \"set\", \"sh\", \"shine\", \"shit\", \"shook\", \"show\", \"sick\", \"sierramcclain\", \"sneek\", \"social\", \"somebody\", \"something\", \"song\", \"sound\", \"special\", \"stage\", \"star\", \"star\", \"starlight\", \"start\", \"stay\", \"sticky\", \"still\", \"still\", \"stop\", \"sucking\", \"survivorfinale\", \"suynbkplxa\", \"take\", \"takeem\", \"talk\", \"tarhondajay\", \"tariq\", \"tb\", \"terrencehoward\", \"terrencehoward\", \"terrencehoward\", \"thing\", \"think\", \"though\", \"thought\", \"thru\", \"tiana\", \"time\", \"together\", \"tonight\", \"tonight\", \"took\", \"truly\", \"try\", \"two\", \"u\", \"u\", \"u\", \"ummm\", \"vernon\", \"visit\", \"wait\", \"wanna\", \"want\", \"wap\", \"watch\", \"watch\", \"watched\", \"watching\", \"way\", \"well\", \"went\", \"white\", \"whole\", \"wife\", \"work\", \"yazzthegreatest\", \"young\", \"z9dx6fbisr\", \"zuaw82vtyg\"]}, \"mdsDat\": {\"y\": [-0.11725843659569972, -0.24211546616763846, -0.07820844117519446, 0.09880515984091362, -0.072073331682337149, -0.13130602648417408, 0.10842547407472602, 0.11866477007971131, 0.20684221177932091, 0.10822408633037163], \"cluster\": [1, 1, 1, 1, 1, 1, 1, 1, 1, 1], \"Freq\": [12.634785941147211, 12.542469416006824, 10.809327665179067, 10.666683306916877, 10.634418498367509, 9.6048494267129492, 8.8218349296179408, 8.7827167715982704, 8.114372259392546, 7.3885417850607915], \"topics\": [1, 2, 3, 4, 5, 6, 7, 8, 9, 10], \"x\": [-0.16867086648453225, 0.11135313463391437, 0.16148537638737778, -0.22948027523430367, -0.2250787375252716, 0.10476279522160498, 0.14744935695448544, -0.20829832042664384, 0.15799889855236068, 0.14847863792100854]}, \"R\": 30, \"lambda.step\": 0.01, \"tinfo\": {\"Category\": [\"Default\", \"Default\", \"Default\", \"Default\", \"Default\", \"Default\", \"Default\", \"Default\", \"Default\", \"Default\", \"Default\", \"Default\", \"Default\", \"Default\", \"Default\", \"Default\", \"Default\", \"Default\", \"Default\", \"Default\", \"Default\", \"Default\", \"Default\", \"Default\", \"Default\", \"Default\", \"Default\", \"Default\", \"Default\", \"Default\", \"Topic1\", \"Topic1\", \"Topic1\", \"Topic1\", \"Topic1\", \"Topic1\", \"Topic1\", \"Topic1\", \"Topic1\", \"Topic1\", \"Topic1\", \"Topic1\", \"Topic1\", \"Topic1\", \"Topic1\", \"Topic1\", \"Topic1\", \"Topic1\", \"Topic1\", \"Topic1\", \"Topic1\", \"Topic1\", \"Topic1\", \"Topic1\", \"Topic1\", \"Topic1\", \"Topic1\", \"Topic1\", \"Topic1\", \"Topic1\", \"Topic1\", \"Topic1\", \"Topic1\", \"Topic1\", \"Topic1\", \"Topic1\", \"Topic1\", \"Topic1\", \"Topic1\", \"Topic2\", \"Topic2\", \"Topic2\", \"Topic2\", \"Topic2\", \"Topic2\", \"Topic2\", \"Topic2\", \"Topic2\", \"Topic2\", \"Topic2\", \"Topic2\", \"Topic2\", \"Topic2\", \"Topic2\", \"Topic2\", \"Topic2\", \"Topic2\", \"Topic2\", \"Topic2\", \"Topic2\", \"Topic2\", \"Topic2\", \"Topic2\", \"Topic2\", \"Topic2\", \"Topic2\", \"Topic2\", \"Topic2\", \"Topic2\", \"Topic2\", \"Topic2\", \"Topic2\", \"Topic2\", \"Topic2\", \"Topic2\", \"Topic2\", \"Topic3\", \"Topic3\", \"Topic3\", \"Topic3\", \"Topic3\", \"Topic3\", \"Topic3\", \"Topic3\", \"Topic3\", \"Topic3\", \"Topic3\", \"Topic3\", \"Topic3\", \"Topic3\", \"Topic3\", \"Topic3\", \"Topic3\", \"Topic3\", \"Topic3\", \"Topic3\", \"Topic3\", \"Topic3\", \"Topic3\", \"Topic3\", \"Topic3\", \"Topic3\", \"Topic3\", \"Topic3\", \"Topic3\", \"Topic3\", \"Topic3\", \"Topic3\", \"Topic3\", \"Topic3\", \"Topic3\", \"Topic3\", \"Topic3\", \"Topic3\", \"Topic3\", \"Topic3\", \"Topic4\", \"Topic4\", \"Topic4\", \"Topic4\", \"Topic4\", \"Topic4\", \"Topic4\", \"Topic4\", \"Topic4\", \"Topic4\", \"Topic4\", \"Topic4\", \"Topic4\", \"Topic4\", \"Topic4\", \"Topic4\", \"Topic4\", \"Topic4\", \"Topic4\", \"Topic4\", \"Topic4\", \"Topic4\", \"Topic4\", \"Topic4\", \"Topic4\", \"Topic4\", \"Topic4\", \"Topic4\", \"Topic4\", \"Topic4\", \"Topic4\", \"Topic4\", \"Topic4\", \"Topic4\", \"Topic4\", \"Topic4\", \"Topic4\", \"Topic4\", \"Topic4\", \"Topic4\", \"Topic5\", \"Topic5\", \"Topic5\", \"Topic5\", \"Topic5\", \"Topic5\", \"Topic5\", \"Topic5\", \"Topic5\", \"Topic5\", \"Topic5\", \"Topic5\", \"Topic5\", \"Topic5\", \"Topic5\", \"Topic5\", \"Topic5\", \"Topic5\", \"Topic5\", \"Topic5\", \"Topic5\", \"Topic5\", \"Topic5\", \"Topic5\", \"Topic5\", \"Topic5\", \"Topic5\", \"Topic5\", \"Topic5\", \"Topic5\", \"Topic5\", \"Topic5\", \"Topic5\", \"Topic5\", \"Topic5\", \"Topic5\", \"Topic6\", \"Topic6\", \"Topic6\", \"Topic6\", \"Topic6\", \"Topic6\", \"Topic6\", \"Topic6\", \"Topic6\", \"Topic6\", \"Topic6\", \"Topic6\", \"Topic6\", \"Topic6\", \"Topic6\", \"Topic6\", \"Topic6\", \"Topic6\", \"Topic6\", \"Topic6\", \"Topic6\", \"Topic6\", \"Topic6\", \"Topic6\", \"Topic6\", \"Topic6\", \"Topic6\", \"Topic6\", \"Topic6\", \"Topic6\", \"Topic6\", \"Topic6\", \"Topic6\", \"Topic6\", \"Topic6\", \"Topic6\", \"Topic6\", \"Topic6\", \"Topic7\", \"Topic7\", \"Topic7\", \"Topic7\", \"Topic7\", \"Topic7\", \"Topic7\", \"Topic7\", \"Topic7\", \"Topic7\", \"Topic7\", \"Topic7\", \"Topic7\", \"Topic7\", \"Topic7\", \"Topic7\", \"Topic7\", \"Topic7\", \"Topic7\", \"Topic7\", \"Topic7\", \"Topic7\", \"Topic7\", \"Topic7\", \"Topic7\", \"Topic7\", \"Topic7\", \"Topic7\", \"Topic7\", \"Topic7\", \"Topic7\", \"Topic7\", \"Topic7\", \"Topic7\", \"Topic7\", \"Topic7\", \"Topic7\", \"Topic7\", \"Topic8\", \"Topic8\", \"Topic8\", \"Topic8\", \"Topic8\", \"Topic8\", \"Topic8\", \"Topic8\", \"Topic8\", \"Topic8\", \"Topic8\", \"Topic8\", \"Topic8\", \"Topic8\", \"Topic8\", \"Topic8\", \"Topic8\", \"Topic8\", \"Topic8\", \"Topic8\", \"Topic8\", \"Topic8\", \"Topic8\", \"Topic8\", \"Topic8\", \"Topic8\", \"Topic8\", \"Topic8\", \"Topic8\", \"Topic8\", \"Topic8\", \"Topic8\", \"Topic8\", \"Topic8\", \"Topic8\", \"Topic8\", \"Topic9\", \"Topic9\", \"Topic9\", \"Topic9\", \"Topic9\", \"Topic9\", \"Topic9\", \"Topic9\", \"Topic9\", \"Topic9\", \"Topic9\", \"Topic9\", \"Topic9\", \"Topic9\", \"Topic9\", \"Topic9\", \"Topic9\", \"Topic9\", \"Topic9\", \"Topic9\", \"Topic9\", \"Topic9\", \"Topic9\", \"Topic9\", \"Topic9\", \"Topic9\", \"Topic9\", \"Topic9\", \"Topic9\", \"Topic9\", \"Topic9\", \"Topic9\", \"Topic9\", \"Topic10\", \"Topic10\", \"Topic10\", \"Topic10\", \"Topic10\", \"Topic10\", \"Topic10\", \"Topic10\", \"Topic10\", \"Topic10\", \"Topic10\", \"Topic10\", \"Topic10\", \"Topic10\", \"Topic10\", \"Topic10\", \"Topic10\", \"Topic10\", \"Topic10\", \"Topic10\", \"Topic10\", \"Topic10\", \"Topic10\", \"Topic10\", \"Topic10\", \"Topic10\", \"Topic10\", \"Topic10\", \"Topic10\", \"Topic10\", \"Topic10\", \"Topic10\", \"Topic10\", \"Topic10\"], \"Term\": [\"http\", \"jamal\", \"andre\", \"empirefox\", \"star\", \"rhonda\", \"bet\", \"lucious\", \"hakeem\", \"felizjueves\", \"take\", \"oh\", \"building\", \"time\", \"cookie\", \"sh\", \"finale\", \"rehab\", \"leedanielsent\", \"anika\", \"back\", \"heart\", \"love\", \"start\", \"takeem\", \"retweet\", \"kill\", \"fall\", \"shine\", \"stage\", \"leedanielsent\", \"anika\", \"kill\", \"8\", \"7c\", \"man\", \"thing\", \"family\", \"together\", \"better\", \"whole\", \"leah\", \"return\", \"mama\", \"done\", \"bring\", \"evil\", \"suynbkplxa\", \"young\", \"bsp9q9fs3s\", \"cjayytaughther\", \"hello\", \"keep\", \"o8ym8liqng\", \"deal\", \"hour\", \"bad\", \"z9dx6fbisr\", \"count\", \"mother\", \"find\", \"cookie\", \"empirefox\", \"lucious\", \"tonight\", \"http\", \"empire\", \"fall\", \"finale\", \"andre\", \"rhonda\", \"take\", \"oh\", \"think\", \"tarhondajay\", \"never\", \"want\", \"left\", \"giving\", \"please\", \"funeral\", \"hillary\", \"plan\", \"pay\", \"ghost\", \"sound\", \"jnjsj\", \"talk\", \"romantic\", \"shit\", \"way\", \"da\", \"sucking\", \"n0hjnpdh9t\", \"fux\", \"said\", \"hit\", \"goodbye\", \"thru\", \"cookie\", \"empire\", \"gonna\", \"empirefox\", \"luscious\", \"jussiesmollett\", \"empirewednesday\", \"sh\", \"love\", \"stage\", \"cold\", \"life\", \"gabbysidibe\", \"nothing\", \"away\", \"borntowin\", \"stop\", \"loving\", \"ruthless\", \"ruin\", \"mom\", \"black\", \"set\", \"saying\", \"pipe\", \"mal\", \"brother\", \"larry\", \"beach\", \"king\", \"killed\", \"dress\", \"mean\", \"else\", \"wanna\", \"johnbasedow\", \"lady\", \"still\", \"right\", \"luscious\", \"lucious\", \"damn\", \"empire\", \"jussiesmollett\", \"care\", \"empirewednesday\", \"crazy\", \"heart\", \"start\", \"neweditionbet\", \"january\", \"24th\", \"l0d0ofuflq\", \"season\", \"march\", \"premiere\", \"special\", \"wait\", \"9\", \"fox\", \"music\", \"5\", \"lost\", \"8c\", \"katy\", \"perry\", \"dre\", \"recap\", \"read\", \"insanity\", \"sick\", \"mid\", \"graffiti\", \"making\", \"foe\", \"furnace\", \"preview\", \"ready\", \"star\", \"watch\", \"finale\", \"http\", \"tonight\", \"empire\", \"fall\", \"need\", \"episode\", \"retweet\", \"prank\", \"watching\", \"8yzswk3f7o\", \"pkwcuc3zop\", \"feelin\", \"8dbwg6mett\", \"bodyguard\", \"ownage\", \"frisky\", \"always\", \"insane\", \"zuaw82vtyg\", \"real\", \"move\", \"hoorah\", \"aguhkh0s7k\", \"draintheswamp\", \"qce0u\", \"bikers4trump\", \"literally\", \"moment\", \"ppt50cfxwn\", \"imaginary\", \"muthaphuckas\", \"fought\", \"celebrity\", \"took\", \"electoralcollege\", \"russian\", \"http\", \"empirefox\", \"fall\", \"empire\", \"finale\", \"cookie\", \"jamal\", \"rehab\", \"takeem\", \"shook\", \"tiana\", \"post\", \"song\", \"dumbest\", \"dirt\", \"rug\", \"yazzthegreatest\", \"empirewriters\", \"performance\", \"intervention\", \"cry\", \"starlight\", \"saw\", \"knew\", \"deep\", \"7\", \"peek\", \"amazing\", \"serayah\", \"came\", \"full\", \"billboard\", \"playing\", \"avail\", \"sneek\", \"almost\", \"go\", \"come\", \"empire\", \"jussiesmollett\", \"empirewednesday\", \"empirefox\", \"need\", \"damn\", \"bet\", \"time\", \"tariq\", \"angelo\", \"epic\", \"as\", \"enough\", \"10\", \"meal\", \"meat\", \"lasagna\", \"iauyirbkh6\", \"father\", \"visit\", \"end\", \"first\", \"4\", \"next\", \"secret\", \"every\", \"hell\", \"gotta\", \"fs9qlv0inl\", \"2016\", \"something\", \"stay\", \"hate\", \"free\", \"brezofficial\", \"mad\", \"crazy\", \"last\", \"night\", \"empire\", \"gonna\", \"terrencehoward\", \"episode\", \"come\", \"felizjueves\", \"show\", \"finally\", \"parody\", \"people\", \"nessa\", \"scene\", \"look\", \"harmony\", \"fifth\", \"girl\", \"medium\", \"conan\", \"even\", \"social\", \"4ekoddb59p\", \"clinton\", \"sierramcclain\", \"went\", \"h0mpplg0ko\", \"watched\", \"day\", \"lee\", \"far\", \"big\", \"daniel\", \"thought\", \"kevin\", \"hart\", \"tb\", \"gym\", \"star\", \"http\", \"empire\", \"jussiesmollett\", \"episode\", \"hakeem\", \"building\", \"back\", \"made\", \"well\", \"pill\", \"happened\", \"boo\", \"survivorfinale\", \"happy\", \"work\", \"gave\", \"dubois\", \"vernon\", \"plot\", \"two\", \"sticky\", \"hope\", \"kitty\", \"lucifer\", \"fingaz\", \"die\", \"rid\", \"cause\", \"keeping\", \"pettymamii\", \"hella\", \"mr\", \"glozell\", \"kardashians\", \"u\", \"empire\", \"empirewednesday\", \"shine\", \"head\", \"ft\", \"fetty\", \"wap\", \"olbztb8ov4\", \"lyon\", \"ever\", \"ummm\", \"much\", \"omg\", \"missed\", \"baby\", \"poor\", \"somebody\", \"level\", \"though\", \"coat\", \"sauce\", \"blameghostrhonda\", \"white\", \"try\", \"6\", \"leslieuggams\", \"wife\", \"easily\", \"truly\", \"nuffsaidny\", \"edition\", \"rashad\", \"lol\", \"empire\", \"help\", \"lucious\"], \"loglift\": [30.0, 29.0, 28.0, 27.0, 26.0, 25.0, 24.0, 23.0, 22.0, 21.0, 20.0, 19.0, 18.0, 17.0, 16.0, 15.0, 14.0, 13.0, 12.0, 11.0, 10.0, 9.0, 8.0, 7.0, 6.0, 5.0, 4.0, 3.0, 2.0, 1.0, 2.0682999999999998, 2.0682999999999998, 2.0682, 2.0680999999999998, 2.0680000000000001, 2.0680000000000001, 2.0678999999999998, 2.0678999999999998, 2.0678999999999998, 2.0678999999999998, 2.0676999999999999, 2.0676999999999999, 2.0676000000000001, 2.0676000000000001, 2.0676000000000001, 2.0674000000000001, 2.0672999999999999, 2.0672999999999999, 2.0672000000000001, 2.0670999999999999, 2.0670999999999999, 2.0670000000000002, 2.0668000000000002, 2.0666000000000002, 2.0665, 2.0663999999999998, 2.0663, 2.0661999999999998, 2.0661, 2.0661, 1.996, 1.3968, 1.0934999999999999, 1.2356, 1.4444999999999999, 0.35570000000000002, -0.086699999999999999, 1.0076000000000001, 0.76800000000000002, 2.0758999999999999, 2.0758999999999999, 2.0758000000000001, 2.0756999999999999, 2.0754000000000001, 2.0754000000000001, 2.0752999999999999, 2.0752000000000002, 2.0750999999999999, 2.0750000000000002, 2.0750000000000002, 2.0749, 2.0747, 2.0747, 2.0747, 2.0747, 2.0747, 2.0747, 2.0746000000000002, 2.0746000000000002, 2.0743999999999998, 2.0743999999999998, 2.0743999999999998, 2.0743, 2.0743, 2.0741999999999998, 2.0741999999999998, 2.0739999999999998, 2.0739000000000001, 2.0733999999999999, 1.0439000000000001, 0.015699999999999999, 1.4181999999999999, -0.66920000000000002, 0.87429999999999997, 0.36109999999999998, 0.63949999999999996, 2.2244000000000002, 2.2242000000000002, 2.2242000000000002, 2.2241, 2.2241, 2.2239, 2.2235999999999998, 2.2233999999999998, 2.2233000000000001, 2.2231000000000001, 2.2229999999999999, 2.2229999999999999, 2.2225999999999999, 2.2223999999999999, 2.2223000000000002, 2.2222, 2.222, 2.222, 2.222, 2.2219000000000002, 2.2216, 2.2214999999999998, 2.2214999999999998, 2.2214, 2.2214, 2.2214, 2.2212999999999998, 2.2212999999999998, 2.2212000000000001, 2.2212000000000001, 2.1150000000000002, 2.1078999999999999, 1.8666, 1.4975000000000001, 1.6326000000000001, 0.017100000000000001, 1.101, 2.0811000000000002, 0.2994, 0.5766, 2.2374999999999998, 2.2374999999999998, 2.2374000000000001, 2.2374000000000001, 2.2374000000000001, 2.2374000000000001, 2.2372999999999998, 2.2370999999999999, 2.2370999999999999, 2.2370999999999999, 2.2370000000000001, 2.2370000000000001, 2.2368000000000001, 2.2364999999999999, 2.2364000000000002, 2.2363, 2.2362000000000002, 2.2357999999999998, 2.2357999999999998, 2.2357999999999998, 2.2357, 2.2355999999999998, 2.2355999999999998, 2.2353999999999998, 2.2353000000000001, 2.2347000000000001, 2.2345999999999999, 2.2345999999999999, 2.2345999999999999, 2.2343999999999999, 2.0964999999999998, 1.6234999999999999, 1.8076000000000001, 1.3657999999999999, 0.502, 1.4701, -0.19850000000000001, 0.9415, 1.2849999999999999, 1.3259000000000001, 2.2404999999999999, 2.2401, 2.2395, 2.2395, 2.2395, 2.2393999999999998, 2.2393000000000001, 2.2389999999999999, 2.2389999999999999, 2.2389999999999999, 2.2389999999999999, 2.2389999999999999, 2.2389000000000001, 2.2387999999999999, 2.2387999999999999, 2.2385999999999999, 2.2385000000000002, 2.2385000000000002, 2.2385000000000002, 2.2385000000000002, 2.2383000000000002, 2.2381000000000002, 2.238, 2.238, 2.2378999999999998, 2.2378999999999998, 2.2378, 2.2378, 2.2376999999999998, 2.2376, 1.3501000000000001, 1.4319, 1.274, 0.083099999999999993, 1.0682, 0.22289999999999999, 2.3428, 2.3424999999999998, 2.3422999999999998, 2.3420000000000001, 2.3418999999999999, 2.3416000000000001, 2.3416000000000001, 2.3416000000000001, 2.3414999999999999, 2.3411, 2.3411, 2.3409, 2.3408000000000002, 2.3405999999999998, 2.3405, 2.3405, 2.3403, 2.3403, 2.3403, 2.3397999999999999, 2.3397000000000001, 2.3397000000000001, 2.3395999999999999, 2.3391999999999999, 2.3389000000000002, 2.3386999999999998, 2.3384999999999998, 2.3382000000000001, 2.3380999999999998, 2.3380999999999998, 1.8231999999999999, 1.9234, 0.38600000000000001, 1.3768, 1.4128000000000001, 0.1663, 1.1940999999999999, 0.93310000000000004, 2.4277000000000002, 2.4275000000000002, 2.427, 2.4268000000000001, 2.4266999999999999, 2.4266999999999999, 2.4266000000000001, 2.4266000000000001, 2.4264000000000001, 2.4264000000000001, 2.4264000000000001, 2.4262999999999999, 2.4262000000000001, 2.4260999999999999, 2.4260999999999999, 2.4260999999999999, 2.4260000000000002, 2.4258999999999999, 2.4256000000000002, 2.4255, 2.4253999999999998, 2.4251999999999998, 2.4251999999999998, 2.4249999999999998, 2.4249000000000001, 2.4247999999999998, 2.4245999999999999, 2.4245000000000001, 2.4245000000000001, 2.4241999999999999, 2.2136, 2.2942999999999998, 1.8992, -0.012500000000000001, 1.6966000000000001, 1.9222999999999999, 1.4233, 1.3547, 2.4321000000000002, 2.4314, 2.4312, 2.4308000000000001, 2.4308000000000001, 2.4308000000000001, 2.4306999999999999, 2.4306999999999999, 2.4304000000000001, 2.4304000000000001, 2.4300999999999999, 2.4300000000000002, 2.4298999999999999, 2.4298999999999999, 2.4298999999999999, 2.4297, 2.4293999999999998, 2.4293, 2.4291999999999998, 2.4289999999999998, 2.4285000000000001, 2.4283999999999999, 2.4279999999999999, 2.4278, 2.4278, 2.4275000000000002, 2.4275000000000002, 2.4275000000000002, 2.4275000000000002, 2.4275000000000002, 2.4275000000000002, 1.6537999999999999, 0.97650000000000003, -0.192, 0.0083999999999999995, 0.96899999999999997, 2.5112999999999999, 2.5110999999999999, 2.5110000000000001, 2.5108000000000001, 2.5108000000000001, 2.5108000000000001, 2.5106000000000002, 2.5102000000000002, 2.5099999999999998, 2.5097999999999998, 2.5095999999999998, 2.5093999999999999, 2.5093000000000001, 2.5093000000000001, 2.5091999999999999, 2.5091000000000001, 2.5089999999999999, 2.5087000000000002, 2.5085999999999999, 2.5084, 2.5082, 2.5082, 2.5081000000000002, 2.5081000000000002, 2.5081000000000002, 2.5081000000000002, 2.5081000000000002, 2.5081000000000002, 2.5078, 2.5078, 2.0525000000000002, -0.11360000000000001, 0.62549999999999994, 2.6046, 2.6044, 2.6040000000000001, 2.6040000000000001, 2.6040000000000001, 2.6038000000000001, 2.6036999999999999, 2.6036000000000001, 2.6034999999999999, 2.6034000000000002, 2.6032000000000002, 2.6031, 2.6031, 2.6030000000000002, 2.6030000000000002, 2.6027, 2.6025999999999998, 2.6019999999999999, 2.6017000000000001, 2.6015999999999999, 2.6015999999999999, 2.6015000000000001, 2.6013999999999999, 2.6013999999999999, 2.6013000000000002, 2.6011000000000002, 2.601, 2.601, 2.6009000000000002, 2.6006999999999998, 2.1507999999999998, -0.047899999999999998, 2.1183000000000001, 0.1043], \"Freq\": [27262.0, 6766.0, 7218.0, 13531.0, 7201.0, 4132.0, 3292.0, 6362.0, 3050.0, 2789.0, 2965.0, 2469.0, 1993.0, 2050.0, 4524.0, 2036.0, 3784.0, 1737.0, 1855.0, 1749.0, 1414.0, 1526.0, 1509.0, 1479.0, 1354.0, 1384.0, 1499.0, 2811.0, 1180.0, 1379.0, 1855.1044270892401, 1748.4197703425082, 1498.3895156557551, 1368.4991124879436, 1167.6323327944051, 1055.3069145164918, 994.36866614631435, 965.91093829882323, 963.51032231122895, 918.77798643975507, 782.80268120854169, 771.59253829992974, 710.21730511701105, 709.63049003099775, 677.59219249853493, 577.32198251962006, 573.64788807812079, 552.30494788952797, 531.13236903801612, 490.41204870403885, 474.29364456231832, 460.77372703463305, 405.84926799157, 374.03298855962584, 346.90582020800559, 346.46897161153595, 325.23326279176467, 306.91462898040413, 299.58647146935635, 299.2029295553848, 806.18681174328287, 2311.0020398517454, 5102.6784085155559, 2765.8410734317413, 1059.8998398521828, 4915.8931596484827, 6214.1256640895117, 972.93019712537671, 1030.6233315266527, 7217.3245548409423, 4132.1840955057442, 2964.9295112445866, 2468.4373569810068, 1219.5384718785915, 1160.1780091201122, 1117.8099882872518, 891.79420647534107, 825.69277178685968, 779.08448924982781, 763.82586883798183, 686.67933952899534, 599.25275021098776, 596.33482382281977, 595.95931707533532, 580.29922396891266, 576.29565932242133, 576.02578624875616, 551.7466664355469, 548.20646394660196, 489.41924925771684, 474.07443718802068, 466.01812101196992, 450.03506571666804, 445.5396353769994, 431.27613615036307, 425.58610321904541, 388.40409650941427, 366.33506764927739, 293.44465665299703, 1611.8969809279718, 6833.5707426299014, 473.33268741284883, 869.18118889638379, 541.29537816405559, 522.08392591924678, 481.91513832649611, 2035.5110855782075, 1508.5567734928904, 1379.0935722998815, 1190.5558576748429, 1111.1358292190041, 935.05181134340512, 692.92245084499041, 583.73069805127932, 529.57853041467752, 475.05807458571093, 436.75182504838693, 429.62300371393525, 361.94467537559115, 322.95554328700479, 310.57902287168969, 305.79636574890895, 285.001079548669, 279.19744209590226, 278.22319113241929, 269.05632779520892, 249.03783643558143, 240.54241638271523, 235.05693363141035, 231.90902348666873, 230.03620366345993, 229.30723735365777, 224.68461410914887, 221.03922687019266, 220.39225425713073, 217.165476847756, 832.26846100663579, 651.64216234575906, 1258.3213799099028, 3074.6125034808019, 781.1242024084421, 5897.6256224439958, 942.88425671399114, 244.31451191646048, 295.59930903795328, 261.79673994677438, 1525.7680905865741, 1479.0983002788378, 1354.9391465543422, 1278.4110133434074, 1257.0712990808343, 1247.3342556525488, 1157.559211608728, 897.21841764958401, 895.32150000505305, 834.09720166458965, 785.71424908114818, 781.0885088456223, 649.02762493896785, 512.9269028205149, 487.15820305789907, 462.62319582396805, 437.73374344437997, 371.38363072463608, 371.38363072463608, 363.28198806507686, 347.27563747336472, 336.27140393777216, 331.06698745252538, 305.86149606534457, 298.73954502274023, 244.97931683395876, 235.46039579374118, 235.17616274580445, 234.90381792199554, 222.93415447841053, 627.52644295380537, 3895.1864566110162, 743.86191931426663, 1581.8698241282464, 4804.3667380304378, 917.96310633096834, 4690.9294362565752, 768.8071847631652, 525.59338113497051, 374.21135178127383, 1383.2559024276693, 871.44031887242897, 519.16687135989707, 513.57242634434908, 505.84435023921088, 476.76731458327379, 471.09049032501633, 397.92491271998432, 397.42555566639328, 397.42555566639328, 389.51143709710118, 384.70450081229251, 369.26985792692756, 362.46887577922638, 353.54272790700355, 323.71225029613038, 313.38313350428081, 313.38313350428081, 311.9362801594753, 311.9362801594753, 293.71659443617773, 270.63086667792629, 267.49303851866642, 261.1824254503432, 260.49656677662, 260.49656677662, 250.62178926250306, 246.39910334345089, 239.84164554652153, 234.72790740197934, 11184.205515620997, 6024.3163537161245, 1068.8798221905877, 6197.7741759329165, 1171.13755858592, 601.33133762053046, 6765.527437270438, 1736.3481143515201, 1354.1221715566637, 826.62446493054335, 781.03030273121101, 588.52089168768725, 584.68661726088555, 578.7563294115231, 539.51404057485399, 435.19236992778912, 425.3847203474204, 388.45900377956991, 378.87414511256156, 339.39871176940363, 326.24388140643168, 321.70632382546637, 302.74520609827812, 298.57060127120394, 295.30497875521922, 252.91167066048078, 240.70426906804124, 240.44598649220885, 237.90713934202753, 207.47145487718961, 193.01474876694485, 187.03462471706703, 178.34853158147041, 164.35869540347167, 162.27732475720131, 161.71819012747955, 934.63805212480941, 660.58661221297382, 7578.0423847505272, 1103.9329810093486, 799.70953734755938, 1534.7664915263585, 432.15609324583977, 344.83726344488952, 3291.3109515723368, 2050.1251416417981, 818.51842585549889, 709.83788387603317, 626.53411855539548, 624.01679022200642, 607.00651068134198, 588.28064925528008, 510.56675682233578, 507.79859675377071, 507.74854933684196, 489.06526401016311, 458.02908493328346, 443.51893050888941, 429.12977597442375, 424.25918361312807, 416.14021511329605, 393.80381779242396, 339.92169981197833, 327.79165911983381, 312.49385208700625, 296.58132881193967, 297.31299502919762, 268.86941674792058, 258.75968699069057, 258.54594004072106, 241.42439409303753, 235.41783951682757, 229.92723526094915, 210.92730189863616, 1098.1338068588411, 493.17163171234961, 461.33530186479544, 4672.983504304746, 439.83046847446178, 313.46590691276162, 341.14907586851342, 343.56269108055335, 2788.3239091895712, 802.83782532551402, 716.57855492701447, 537.04026774694239, 520.34795351913738, 514.51958050457313, 481.61146250924725, 477.49713916996933, 411.33462389959965, 411.33462389959965, 357.08457784177727, 346.56367862322651, 334.11415094249185, 329.39309974660688, 328.32431060199269, 306.16877338918522, 276.47081642109379, 269.94187025104605, 258.22048375787881, 246.48526475621753, 214.37886200234396, 206.30666715417638, 187.79455920965864, 180.95709318630259, 177.77055559269868, 170.04526134443722, 169.06691317352983, 167.61447036845755, 167.61447036845755, 167.08729719014499, 167.08729719014499, 3305.8894384895329, 6357.8171267206699, 3887.6023816536413, 256.91446525554466, 215.64461322163663, 3050.0267146247093, 1992.5159929338315, 1413.6648453024625, 1111.3749739439268, 1089.1929778668998, 1074.9619781656586, 819.68337344493068, 572.22663396843427, 512.53892178113313, 455.69504988929202, 402.99656257778048, 368.76244732243686, 350.09218889041074, 346.90868775104303, 340.3780537520841, 324.06519799552734, 304.3223645232822, 273.51575420107895, 267.90566583827018, 247.9570535909364, 234.44613688206374, 233.06606986641964, 231.41130751207686, 229.24706774287378, 227.6333420423891, 227.50082548520206, 226.1410417856664, 224.98566513711063, 211.00004517851303, 211.00004517851303, 381.67939867665359, 3884.7306218610543, 307.45518822025707, 1179.6907449266325, 938.39767996897774, 642.3341437158316, 619.64001828694916, 619.64001828694916, 543.12828168278918, 522.13721602474254, 482.84614637870726, 445.64945621790179, 429.87038573430704, 394.83270827120441, 371.07602620972176, 366.23733373300013, 353.87121162190783, 353.43656225827363, 312.80845812520226, 296.3823230649312, 245.39766412349982, 222.87497728501944, 218.69578662232036, 214.86208528467535, 209.95914576740151, 204.9355841101808, 204.70167402445412, 199.49912345810895, 191.92957126017575, 189.10308130738332, 184.8578659243982, 182.6511232734407, 175.17273722611333, 406.0280215324496, 3777.5320184614789, 245.10026805200826, 521.80703132869053], \"Total\": [27262.0, 6766.0, 7218.0, 13531.0, 7201.0, 4132.0, 3292.0, 6362.0, 3050.0, 2789.0, 2965.0, 2469.0, 1993.0, 2050.0, 4524.0, 2036.0, 3784.0, 1737.0, 1855.0, 1749.0, 1414.0, 1526.0, 1509.0, 1479.0, 1354.0, 1384.0, 1499.0, 2811.0, 1180.0, 1379.0, 1855.8908180109834, 1749.2061865159255, 1499.1760056282044, 1369.2855212338013, 1168.4186987397004, 1056.0933700547644, 995.15531803232034, 966.6973598879822, 964.2967259150646, 919.56440631816258, 783.58918546638711, 772.37897204497051, 711.00378726505005, 710.41701180582254, 678.37864136376345, 578.10836689598216, 574.43462191126423, 553.09132462377488, 531.91900771472217, 491.19840016504321, 475.08006849057386, 461.56054489351038, 406.63572578702485, 374.81938857721792, 347.69231768322589, 347.2554067519049, 326.01981644357596, 307.7009804427675, 300.37290124689486, 299.9893501251957, 867.01208491219484, 4524.8478204954245, 13531.454101364028, 6362.8479581704369, 1978.5825599457203, 27262.874060067443, 53634.916552384348, 2811.2690328529029, 3784.282567020321, 7218.1083851392086, 4132.9678599578192, 2965.7135299579627, 2469.221304562715, 1220.3222576705721, 1160.9618015813271, 1118.5938492575276, 892.57799982805909, 826.47803999351447, 779.86825136289372, 764.60994924724639, 687.46308452134735, 600.03749672632682, 597.11858279790954, 596.74307624527921, 581.08297612022068, 577.07939946369504, 576.80961777482548, 552.53042036312183, 548.99020167195647, 490.20305191712794, 474.85829088707925, 466.80184468666329, 450.81906495429183, 446.32337051425026, 432.05985397102495, 426.36990307656464, 389.18866585856847, 367.11880701545442, 294.22861952435352, 4524.8478204954245, 53634.916552384348, 913.86266542943758, 13531.454101364028, 1800.2924113646732, 2900.8021651323725, 2027.046093503287, 2036.2889873092652, 1509.3337375450001, 1379.8706255520349, 1191.3328022792045, 1111.9127512983341, 935.82973197112983, 693.69939759360011, 584.50770587798581, 530.35550419673439, 475.83515142460192, 437.52882256171694, 430.40019222965282, 362.72157383704905, 323.73246325342802, 311.35601064620965, 306.57343472009256, 285.77809158298817, 279.97440182962043, 279.00011259965459, 269.83326126559911, 249.81484095932396, 241.31948575911574, 235.83383222702707, 232.68596857170866, 230.81318311421541, 230.08416725575194, 225.46165475660558, 221.81613703861382, 221.16920337526273, 217.94244271975575, 928.81114998733506, 732.44758987521891, 1800.2924113646732, 6362.8479581704369, 1412.1542278787706, 53634.916552384348, 2900.8021651323725, 282.05620296739863, 2027.046093503287, 1360.6231889257317, 1526.586378795223, 1479.916557382161, 1355.7574141944344, 1279.229278791295, 1257.8895637490193, 1248.152520211994, 1158.3775495523616, 898.03668367603029, 896.13971128772539, 834.91543224799796, 786.53251729509861, 781.90676028813903, 649.84588436421029, 513.74517017407732, 487.97660590815696, 463.44157478827032, 438.55193875092095, 372.20181064457807, 372.20181064457807, 364.10028454355279, 348.09427160913305, 337.08969570253697, 331.88544596401971, 306.67969985762289, 299.55778426417965, 245.79758585062748, 236.27865455095764, 235.9944676664154, 235.72212378648359, 223.75242455087241, 722.91591844579978, 7201.8337678147927, 1143.9922388920497, 3784.282567020321, 27262.874060067443, 1978.5825599457203, 53634.916552384348, 2811.2690328529029, 1363.2256047873166, 931.67854821437243, 1384.0731453308122, 872.25789144499799, 519.98419220513154, 514.38970499523282, 506.6624130397152, 477.58472919515322, 471.90807043486302, 398.74221312645534, 398.24286664123736, 398.24286664123736, 390.32874210740039, 385.52205470883507, 370.08717377566364, 363.28621263297026, 354.36018248516262, 324.5295203595993, 314.2004021705086, 314.2004021705086, 312.75354791833013, 312.75354791833013, 294.53385244429825, 271.44817729251446, 268.31028395924187, 261.99967359610747, 261.31381410464905, 261.31381410464905, 251.43901967670408, 247.21661032037551, 240.65892691406182, 235.5451569095338, 27262.874060067443, 13531.454101364028, 2811.2690328529029, 53634.916552384348, 3784.282567020321, 4524.8478204954245, 6766.3067141315878, 1737.1274003306173, 1354.9014783877735, 827.40515768887713, 781.80963566615333, 589.30093538755705, 585.46599615939238, 579.53655277878556, 540.29332746971875, 435.97165761182208, 426.16396316128515, 389.23829399364303, 379.65339016755911, 340.17803561502205, 327.02318708562967, 322.48558924160989, 303.52464089634032, 299.34991010769221, 296.08423929724393, 253.69126941549504, 241.48351032003134, 241.22533180197414, 238.68638372340081, 208.25070984305049, 193.79408318622637, 187.81580488815669, 179.1278230749262, 165.13794129666977, 163.05656057595991, 162.49752287395248, 1571.5900903409402, 1004.8442627415844, 53634.916552384348, 2900.8021651323725, 2027.046093503287, 13531.454101364028, 1363.2256047873166, 1412.1542278787706, 3292.1118724766416, 2050.9259024877128, 819.31921002125534, 710.63867504598807, 627.3348241859627, 624.81751444695351, 607.80752763076885, 589.08156777014653, 511.36762515709637, 508.59942185269074, 508.54937656031888, 489.86609656536388, 458.82982480531331, 444.32046267660974, 429.9305073688659, 425.05993849429842, 416.9410807525054, 394.60456680541171, 340.72258462236084, 328.59244228386478, 313.2945549794207, 297.38203039029656, 298.11606743015818, 269.67051685296241, 259.5603742640597, 259.34668209385899, 242.22513124647119, 236.21866164028694, 230.72792348188307, 211.72802512361164, 1360.6231889257317, 563.66666406359252, 782.78748365207434, 53634.916552384348, 913.86266542943758, 519.7321329614017, 931.67854821437243, 1004.8442627415844, 2789.1489862775329, 803.66241850728693, 717.40318523723522, 537.86517912748445, 521.17254939717452, 515.34420491338676, 482.43605755967519, 478.32175491007797, 412.15945265727726, 412.15945265727726, 357.9091851744206, 347.38832875890353, 334.93869856101873, 330.21775632920827, 329.14911727429649, 306.99360268094597, 277.29546436104698, 270.7665042255374, 259.04511101895565, 247.30997350367136, 215.20347701687189, 207.13128827978593, 188.61910826333911, 181.78172941243679, 178.59520121050519, 170.86980661965126, 169.89155289420768, 168.43901142464824, 168.43901142464824, 167.91184668823945, 167.91184668823945, 7201.8337678147927, 27262.874060067443, 53634.916552384348, 2900.8021651323725, 931.67854821437243, 3050.810953142674, 1993.3003583793716, 1414.4490400644338, 1112.1592316792294, 1089.9771334729041, 1075.746131296466, 820.46749668339135, 573.01076795793028, 513.32333778075645, 456.47922008071731, 403.78082795932971, 369.54662412933789, 350.87643040158792, 347.69384706571623, 341.16279024923642, 324.8495399287844, 305.10652532130831, 274.2999564170413, 268.68978903266867, 248.7415789919452, 235.23029132154394, 233.85023052934838, 232.19592914177082, 230.0312968249082, 228.41759179746296, 228.28500095297602, 226.92524690267643, 225.76983999379797, 211.78462755662295, 211.78462755662295, 604.02361619354292, 53634.916552384348, 2027.046093503287, 1180.4848724522672, 939.19179064732612, 643.12835521841328, 620.43427289009173, 620.43427289009173, 543.92264548222647, 522.9313269164436, 483.64024579912603, 446.44375574068772, 430.66446802671879, 395.62690818922221, 371.87017244899135, 367.03143315987148, 354.66531838335084, 354.23067669177522, 313.60257911284532, 297.17645197943943, 246.19179545781719, 223.6690529869305, 219.48986787816582, 215.6561577435611, 210.7532361776297, 205.73007869346048, 205.49590130648377, 200.29321461089248, 192.72434377688666, 189.89719815454686, 185.6519599144859, 183.44551085063725, 175.96678468232878, 639.59948729516395, 53634.916552384348, 398.84476234981582, 6362.8479581704369], \"logprob\": [30.0, 29.0, 28.0, 27.0, 26.0, 25.0, 24.0, 23.0, 22.0, 21.0, 20.0, 19.0, 18.0, 17.0, 16.0, 15.0, 14.0, 13.0, 12.0, 11.0, 10.0, 9.0, 8.0, 7.0, 6.0, 5.0, 4.0, 3.0, 2.0, 1.0, -3.4700000000000002, -3.5291999999999999, -3.6835, -3.7742, -3.9329000000000001, -4.0340999999999996, -4.0936000000000003, -4.1226000000000003, -4.1250999999999998, -4.1726000000000001, -4.3327999999999998, -4.3472, -4.4301000000000004, -4.4309000000000003, -4.4771000000000001, -4.6372999999999998, -4.6436999999999999, -4.6816000000000004, -4.7206999999999999, -4.8003999999999998, -4.8338999999999999, -4.8628, -4.9897, -5.0712999999999999, -5.1466000000000003, -5.1478999999999999, -5.2111000000000001, -5.2690999999999999, -5.2933000000000003, -5.2946, -4.3033999999999999, -3.2502, -2.4582000000000002, -3.0706000000000002, -4.0297999999999998, -2.4954999999999998, -2.2610999999999999, -4.1154000000000002, -4.0578000000000003, -2.1040999999999999, -2.6617999999999999, -2.9937, -3.177, -3.8820999999999999, -3.9319999999999999, -3.9691999999999998, -4.1951000000000001, -4.2721, -4.3301999999999996, -4.3499999999999996, -4.4565000000000001, -4.5926999999999998, -4.5975000000000001, -4.5982000000000003, -4.6247999999999996, -4.6317000000000004, -4.6322000000000001, -4.6753, -4.6817000000000002, -4.7950999999999997, -4.827, -4.8441000000000001, -4.8789999999999996, -4.8891, -4.9215999999999998, -4.9348999999999998, -5.0263, -5.0848000000000004, -5.3067000000000002, -3.6032000000000002, -2.1587000000000001, -4.8285, -4.2207999999999997, -4.6943999999999999, -4.7305000000000001, -4.8106, -3.2210999999999999, -3.5207000000000002, -3.6105, -3.7574999999999998, -3.8264999999999998, -3.9990000000000001, -4.2987000000000002, -4.4702000000000002, -4.5675999999999997, -4.6761999999999997, -4.7603, -4.7766999999999999, -4.9481000000000002, -5.0621, -5.1012000000000004, -5.1166999999999998, -5.1871, -5.2077, -5.2111999999999998, -5.2446999999999999, -5.3220000000000001, -5.3567, -5.3798000000000004, -5.3933, -5.4013999999999998, -5.4046000000000003, -5.4249000000000001, -5.4413, -5.4442000000000004, -5.4589999999999996, -4.1154999999999999, -4.3601000000000001, -3.7021000000000002, -2.8087, -4.1788999999999996, -2.1573000000000002, -3.9906999999999999, -5.3411999999999997, -5.1505999999999998, -5.2721, -3.4961000000000002, -3.5272000000000001, -3.6147999999999998, -3.673, -3.6898, -3.6976, -3.7723, -4.0270999999999999, -4.0292000000000003, -4.0999999999999996, -4.1597999999999997, -4.1657000000000002, -4.3509000000000002, -4.5861999999999998, -4.6378000000000004, -4.6894, -4.7446999999999999, -4.9090999999999996, -4.9090999999999996, -4.9311999999999996, -4.9762000000000004, -5.0084, -5.024, -5.1032000000000002, -5.1268000000000002, -5.3251999999999997, -5.3647999999999998, -5.3659999999999997, -5.3672000000000004, -5.4195000000000002, -4.3845999999999998, -2.5589, -4.2145000000000001, -3.46, -2.3491, -4.0042, -2.3730000000000002, -4.1814999999999998, -4.5617999999999999, -4.9015000000000004, -3.5911, -4.0532000000000004, -4.5711000000000004, -4.5819000000000001, -4.5971000000000002, -4.6562999999999999, -4.6683000000000003, -4.8371000000000004, -4.8383000000000003, -4.8383000000000003, -4.8583999999999996, -4.8708, -4.9118000000000004, -4.9303999999999997, -4.9553000000000003, -5.0434999999999999, -5.0758999999999999, -5.0758999999999999, -5.0804999999999998, -5.0804999999999998, -5.1406999999999998, -5.2225999999999999, -5.2342000000000004, -5.2580999999999998, -5.2606999999999999, -5.2606999999999999, -5.2994000000000003, -5.3163999999999998, -5.3433000000000002, -5.3648999999999996, -1.5011000000000001, -2.1198000000000001, -3.8490000000000002, -2.0914000000000001, -3.7576000000000001, -4.4241999999999999, -1.9018999999999999, -3.262, -3.5106000000000002, -4.0041000000000002, -4.0609000000000002, -4.3438999999999997, -4.3503999999999996, -4.3605999999999998, -4.4307999999999996, -4.6456999999999997, -4.6684999999999999, -4.7592999999999996, -4.7843, -4.8943000000000003, -4.9339000000000004, -4.9478999999999997, -5.0086000000000004, -5.0225, -5.0335000000000001, -5.1885000000000003, -5.2378999999999998, -5.2389999999999999, -5.2496, -5.3864999999999998, -5.4587000000000003, -5.4901999999999997, -5.5377999999999998, -5.6193999999999997, -5.6322000000000001, -5.6356000000000002, -3.8813, -4.2283999999999997, -1.7885, -3.7149000000000001, -4.0372000000000003, -3.3854000000000002, -4.6527000000000003, -4.8784000000000001, -2.5373999999999999, -3.0108000000000001, -3.9289999999999998, -4.0713999999999997, -4.1962999999999999, -4.2003000000000004, -4.2279, -4.2592999999999996, -4.4009, -4.4063999999999997, -4.4065000000000003, -4.444, -4.5095000000000001, -4.5416999999999996, -4.5747, -4.5861000000000001, -4.6054000000000004, -4.6605999999999996, -4.8076999999999996, -4.8441000000000001, -4.8918999999999997, -4.9440999999999997, -4.9417, -5.0422000000000002, -5.0805999999999996, -5.0814000000000004, -5.1498999999999997, -5.1750999999999996, -5.1986999999999997, -5.2849000000000004, -3.6351, -4.4356, -4.5023, -2.1869000000000001, -4.5500999999999996, -4.8887999999999998, -4.8041, -4.7971000000000004, -2.6987999999999999, -3.9439000000000002, -4.0575000000000001, -4.3459000000000003, -4.3775000000000004, -4.3887999999999998, -4.4549000000000003, -4.4634999999999998, -4.6125999999999996, -4.6125999999999996, -4.7539999999999996, -4.7839, -4.8205, -4.8348000000000004, -4.8380000000000001, -4.9078999999999997, -5.0099, -5.0338000000000003, -5.0781999999999998, -5.1246999999999998, -5.2643000000000004, -5.3026, -5.3967000000000001, -5.4337999999999997, -5.4515000000000002, -5.4958999999999998, -5.5016999999999996, -5.5103, -5.5103, -5.5134999999999996, -5.5134999999999996, -2.5286, -1.8746, -2.3664999999999998, -5.0833000000000004, -5.2584, -2.5299999999999998, -2.9557000000000002, -3.2989000000000002, -3.5394999999999999, -3.5596999999999999, -3.5728, -3.8439000000000001, -4.2032999999999996, -4.3135000000000003, -4.431, -4.5538999999999996, -4.6426999999999996, -4.6947000000000001, -4.7038000000000002, -4.7228000000000003, -4.7718999999999996, -4.8348000000000004, -4.9414999999999996, -4.9622000000000002, -5.0396000000000001, -5.0956000000000001, -5.1014999999999997, -5.1086999999999998, -5.1181000000000001, -5.1250999999999998, -5.1257000000000001, -5.1317000000000004, -5.1368, -5.2009999999999996, -5.2009999999999996, -4.6082999999999998, -2.2881, -4.8244999999999996, -3.3860999999999999, -3.6150000000000002, -3.9940000000000002, -4.0300000000000002, -4.0300000000000002, -4.1618000000000004, -4.2012, -4.2794999999999996, -4.3596000000000004, -4.3956999999999997, -4.4806999999999997, -4.5427999999999997, -4.5559000000000003, -4.5902000000000003, -4.5914999999999999, -4.7135999999999996, -4.7675000000000001, -4.9562999999999997, -5.0525000000000002, -5.0715000000000003, -5.0891999999999999, -5.1121999999999996, -5.1364999999999998, -5.1375999999999999, -5.1632999999999996, -5.202, -5.2168999999999999, -5.2396000000000003, -5.2515999999999998, -5.2934000000000001, -4.4527000000000001, -2.2223000000000002, -4.9574999999999996, -4.2019000000000002]}};\n",
       "\n",
       "function LDAvis_load_lib(url, callback){\n",
       "  var s = document.createElement('script');\n",
       "  s.src = url;\n",
       "  s.async = true;\n",
       "  s.onreadystatechange = s.onload = callback;\n",
       "  s.onerror = function(){console.warn(\"failed to load library \" + url);};\n",
       "  document.getElementsByTagName(\"head\")[0].appendChild(s);\n",
       "}\n",
       "\n",
       "if(typeof(LDAvis) !== \"undefined\"){\n",
       "   // already loaded: just create the visualization\n",
       "   !function(LDAvis){\n",
       "       new LDAvis(\"#\" + \"ldavis_el4105168297965604224085897\", ldavis_el4105168297965604224085897_data);\n",
       "   }(LDAvis);\n",
       "}else if(typeof define === \"function\" && define.amd){\n",
       "   // require.js is available: use it to load d3/LDAvis\n",
       "   require.config({paths: {d3: \"https://cdnjs.cloudflare.com/ajax/libs/d3/3.5.5/d3.min\"}});\n",
       "   require([\"d3\"], function(d3){\n",
       "      window.d3 = d3;\n",
       "      LDAvis_load_lib(\"https://cdn.rawgit.com/bmabey/pyLDAvis/files/ldavis.v1.0.0.js\", function(){\n",
       "        new LDAvis(\"#\" + \"ldavis_el4105168297965604224085897\", ldavis_el4105168297965604224085897_data);\n",
       "      });\n",
       "    });\n",
       "}else{\n",
       "    // require.js not available: dynamically load d3 & LDAvis\n",
       "    LDAvis_load_lib(\"https://cdnjs.cloudflare.com/ajax/libs/d3/3.5.5/d3.min.js\", function(){\n",
       "         LDAvis_load_lib(\"https://cdn.rawgit.com/bmabey/pyLDAvis/files/ldavis.v1.0.0.js\", function(){\n",
       "                 new LDAvis(\"#\" + \"ldavis_el4105168297965604224085897\", ldavis_el4105168297965604224085897_data);\n",
       "            })\n",
       "         });\n",
       "}\n",
       "</script>"
      ],
      "text/plain": [
       "<IPython.core.display.HTML object>"
      ]
     },
     "execution_count": 25,
     "metadata": {},
     "output_type": "execute_result"
    }
   ],
   "source": [
    "lda = models.LdaModel.load('Twitter/output/document_t10.lda')\n",
    "topic_data =  pyLDAvis.gensim.prepare(lda, corpus, dictionary)\n",
    "pyLDAvis.display(topic_data)"
   ]
  },
  {
   "cell_type": "code",
   "execution_count": 27,
   "metadata": {
    "collapsed": false
   },
   "outputs": [
    {
     "data": {
      "text/plain": [
       "[(0,\n",
       "  u'0.112*\"empire\" + 0.079*\"bet\" + 0.049*\"time\" + 0.026*\"crazy\" + 0.020*\"tariq\" + 0.017*\"angelo\" + 0.015*\"epic\" + 0.015*\"as\" + 0.015*\"enough\" + 0.014*\"10\"'),\n",
       " (1,\n",
       "  u'0.122*\"andre\" + 0.115*\"empire\" + 0.070*\"rhonda\" + 0.050*\"take\" + 0.042*\"oh\" + 0.027*\"cookie\" + 0.021*\"think\" + 0.020*\"tarhondajay\" + 0.019*\"never\" + 0.015*\"want\"'),\n",
       " (2,\n",
       "  u'0.095*\"http\" + 0.093*\"empire\" + 0.077*\"star\" + 0.031*\"finale\" + 0.030*\"heart\" + 0.029*\"start\" + 0.027*\"neweditionbet\" + 0.025*\"january\" + 0.025*\"24th\" + 0.025*\"l0d0ofuflq\"'),\n",
       " (3,\n",
       "  u'0.104*\"empire\" + 0.086*\"empirefox\" + 0.082*\"http\" + 0.046*\"lucious\" + 0.039*\"cookie\" + 0.031*\"leedanielsent\" + 0.029*\"anika\" + 0.025*\"kill\" + 0.023*\"8\" + 0.020*\"7c\"'),\n",
       " (4,\n",
       "  u'0.167*\"empire\" + 0.149*\"jamal\" + 0.038*\"rehab\" + 0.034*\"empirefox\" + 0.030*\"takeem\" + 0.024*\"jussiesmollett\" + 0.021*\"go\" + 0.018*\"shook\" + 0.018*\"empirewednesday\" + 0.017*\"tiana\"'),\n",
       " (5,\n",
       "  u'0.223*\"http\" + 0.124*\"empire\" + 0.120*\"empirefox\" + 0.028*\"retweet\" + 0.023*\"finale\" + 0.021*\"fall\" + 0.017*\"prank\" + 0.012*\"cookie\" + 0.010*\"watching\" + 0.010*\"8yzswk3f7o\"'),\n",
       " (6,\n",
       "  u'0.116*\"empire\" + 0.060*\"lucious\" + 0.040*\"sh\" + 0.030*\"love\" + 0.027*\"stage\" + 0.025*\"luscious\" + 0.023*\"cold\" + 0.022*\"life\" + 0.018*\"jussiesmollett\" + 0.018*\"gabbysidibe\"'),\n",
       " (7,\n",
       "  u'0.101*\"empire\" + 0.080*\"hakeem\" + 0.052*\"building\" + 0.037*\"back\" + 0.029*\"made\" + 0.028*\"well\" + 0.028*\"pill\" + 0.021*\"happened\" + 0.015*\"boo\" + 0.013*\"survivorfinale\"'),\n",
       " (8,\n",
       "  u'0.108*\"empire\" + 0.034*\"shine\" + 0.027*\"head\" + 0.018*\"ft\" + 0.018*\"wap\" + 0.018*\"fetty\" + 0.016*\"olbztb8ov4\" + 0.015*\"lyon\" + 0.015*\"lucious\" + 0.014*\"ever\"'),\n",
       " (9,\n",
       "  u'0.153*\"http\" + 0.094*\"empire\" + 0.080*\"star\" + 0.067*\"felizjueves\" + 0.019*\"show\" + 0.017*\"finally\" + 0.013*\"parody\" + 0.013*\"people\" + 0.012*\"nessa\" + 0.012*\"scene\"')]"
      ]
     },
     "execution_count": 27,
     "metadata": {},
     "output_type": "execute_result"
    }
   ],
   "source": [
    "lda.show_topics()"
   ]
  },
  {
   "cell_type": "code",
   "execution_count": 28,
   "metadata": {
    "collapsed": false
   },
   "outputs": [
    {
     "name": "stdout",
     "output_type": "stream",
     "text": [
      "lda saved in Twitter/output/document_t5.lda \n"
     ]
    }
   ],
   "source": [
    "## apply LDA\n",
    "lda = gensim.models.ldamodel.LdaModel(bow_corpus, num_topics=5, id2word = dictionary, passes=20)\n",
    "lda_corpus = lda[bow_corpus]\n",
    "\n",
    "lda.save('Twitter/output/document_t5.lda')\n",
    "print(\"lda saved in %s \" % 'Twitter/output/document_t5.lda')"
   ]
  },
  {
   "cell_type": "code",
   "execution_count": 29,
   "metadata": {
    "collapsed": false
   },
   "outputs": [
    {
     "data": {
      "text/html": [
       "\n",
       "<link rel=\"stylesheet\" type=\"text/css\" href=\"https://cdn.rawgit.com/bmabey/pyLDAvis/files/ldavis.v1.0.0.css\">\n",
       "\n",
       "\n",
       "<div id=\"ldavis_el4105170002084643338967997\"></div>\n",
       "<script type=\"text/javascript\">\n",
       "\n",
       "var ldavis_el4105170002084643338967997_data = {\"plot.opts\": {\"xlab\": \"PC1\", \"ylab\": \"PC2\"}, \"topic.order\": [5, 2, 4, 3, 1], \"token.table\": {\"Topic\": [5, 5, 5, 1, 1, 1, 3, 1, 3, 2, 4, 5, 2, 1, 2, 5, 2, 2, 4, 1, 2, 4, 4, 5, 1, 3, 4, 5, 3, 5, 5, 2, 4, 1, 2, 3, 4, 4, 2, 2, 4, 2, 2, 4, 3, 4, 2, 1, 2, 3, 4, 5, 1, 3, 5, 2, 3, 4, 5, 3, 4, 1, 1, 4, 5, 5, 2, 1, 1, 1, 4, 1, 1, 1, 1, 2, 3, 1, 4, 1, 2, 1, 5, 2, 5, 2, 4, 5, 3, 3, 4, 2, 4, 5, 4, 2, 5, 1, 1, 4, 5, 4, 3, 1, 3, 5, 3, 2, 2, 4, 3, 5, 4, 2, 3, 4, 3, 5, 5, 1, 1, 2, 4, 3, 2, 2, 4, 2, 3, 3, 1, 2, 3, 4, 4, 5, 3, 3, 4, 4, 5, 4, 3, 4, 1, 3, 1, 4, 5, 3, 5, 1, 4, 5, 5, 1, 5, 4, 4, 1, 2, 3, 4, 3, 1, 1, 3, 5, 1, 2, 3, 1, 3, 5, 2, 2, 2, 4, 4, 5, 3, 1, 4, 2, 5, 5, 4, 1, 2, 4, 4, 3, 2, 1, 3, 1, 1, 5, 4, 5, 2, 5, 2, 1, 2, 3, 3, 1, 3, 4, 3, 2, 2, 1, 5, 1, 1, 4, 2, 3, 4, 5, 1, 1, 5, 3], \"Freq\": [0.99949796856698048, 0.99916639858993528, 0.99886741631611531, 0.99832096883535182, 0.99853364078250495, 0.99883755548121178, 0.99932872415725316, 0.99934568330919427, 0.99769506108600436, 0.42636102580410651, 0.26965074637694925, 0.30394905844937653, 0.99894469262986374, 0.22586075431693611, 0.16524636657692771, 0.60830867696222723, 0.99943630193424926, 0.86640802561775365, 0.1324889536155921, 0.13061807284789947, 0.67080128937141592, 0.19777199730642406, 0.99863874585897716, 0.9999019146351058, 0.99818034798093547, 0.9979182486310475, 0.99949789345763318, 0.99755001636595886, 0.9981047510859139, 0.99936004024086944, 0.99726771282774773, 0.99928600834232029, 0.99958083826401178, 0.079531383000046557, 0.12886635855087758, 0.47314793362327168, 0.31855083351355545, 0.9968579762741332, 0.99941635363377901, 0.99821064715676078, 0.9994106228602424, 0.99910025593295571, 0.99886346549988092, 0.99964403425426607, 0.99769506108600436, 0.99890623558498648, 0.99887123989526216, 0.20101224994646008, 0.18355151889190632, 0.23810933030198161, 0.20476844555138005, 0.1725432624656062, 0.2921572266388725, 0.55719150412766605, 0.15064947243804289, 0.39767492325147163, 0.093072854378004, 0.35337821715712753, 0.1557850450284238, 0.99847265644317773, 0.99858277609349078, 0.9977265810320991, 0.20768187684883735, 0.57220234949223236, 0.21974638421764947, 0.99806232817446305, 0.99809129623510795, 0.99972015389728075, 0.99889087387126652, 0.0012986042046042149, 0.99862663334064139, 0.99963153091652857, 0.99743577664821303, 0.99884284876341378, 0.99987476652126395, 0.20324339070416278, 0.79695022496030632, 0.99779507360993269, 0.99800940669325133, 0.9982760709949362, 0.99677392096667539, 0.99759751938963992, 0.99839625046731018, 0.99859163131462914, 0.99832480577760263, 0.9975038424798911, 0.99646355907457462, 0.9974178103351744, 0.9991491163966939, 0.52276531910877799, 0.47669316995113009, 0.11427889513158519, 0.37548779828949419, 0.5104457315877472, 0.99872900944249487, 0.9997696092609466, 0.99902502522490921, 0.99884284876341378, 0.8624454024268271, 0.13641491426786367, 0.99953706102711903, 0.99721508492782673, 0.99768823088999792, 0.48656482341122098, 0.26538614451436338, 0.24803533266928318, 0.99722443704597086, 0.99906186472446745, 0.99941093353238486, 0.99775121632373875, 0.99992750987699652, 0.99946996010831146, 0.99847947181701868, 0.27243726930189721, 0.54653776979611368, 0.18095955372433711, 0.99973912416300492, 0.99942145869703169, 0.99831845113420559, 0.99925815143321695, 0.99922972929650322, 0.99701746443789008, 0.99929149810692175, 0.99901333479310162, 0.99879391889699976, 0.9988043784744195, 0.99958140745000568, 0.7985888363445971, 0.20085093902895981, 0.9994197839940111, 0.085354054205221006, 0.41350025492126258, 0.27408317214075767, 0.22706472001619254, 0.99988459224811344, 0.99941131471136468, 0.99925032200932173, 0.67555864952649114, 0.32448814373456969, 0.99937674522633779, 0.99818863127709412, 0.99812631234897931, 0.99899339641718166, 0.9985298176172086, 0.99798216794010308, 0.99822287471277249, 0.3275135635314137, 0.67176670919887738, 0.99865695253741837, 0.99947651085593947, 0.99983582148314543, 0.9991539323010592, 0.090388274203459934, 0.9092863888619801, 0.99745371283864104, 0.99804188556188034, 0.99829220285159015, 0.9988157245919641, 0.99959887432612993, 0.99710311800905727, 0.99872515632175896, 0.99894394423374433, 0.99759353374129234, 0.99846304524613683, 0.99934775452515512, 0.99885830505011752, 0.9979182486310475, 0.99894710453039315, 0.99855239159036457, 0.99841620438387835, 0.9992845145203566, 0.99927476627054257, 0.99968336242544564, 0.99971803758777067, 0.99915898377480472, 0.99896032259714551, 0.99901688347445261, 0.99745305107640425, 0.99909327426458039, 0.99824375194764259, 0.99933066386727076, 0.80461647978353967, 0.19567009268454674, 0.99863302426305067, 0.99981126083031935, 0.99927838904605415, 0.99830160668949552, 0.39880442155182266, 0.098096719784011549, 0.5033186837516106, 0.99874407551283351, 0.9979942463749305, 0.99851753503171436, 0.99866227641992666, 0.99930005721409176, 0.99990075500317921, 0.084412314116887349, 0.91484697191545483, 0.73149397595005838, 0.26775869836178146, 0.9974465253840088, 0.99871422527868636, 0.99959352998508288, 0.99875066779074828, 0.99950115322793398, 0.9992582661974021, 0.99974434352254216, 0.048413142482742366, 0.27682386599106534, 0.6740599068751052, 0.99969081847441599, 0.99936582348925818, 0.99895967831854438, 0.5754192098171369, 0.42380081484944682, 0.9979688450250227, 0.99927626503329492, 0.99853681833955765, 0.99930210405324549, 0.99884004905745205, 0.99972067978091506, 0.9984833617976393, 0.99743577664821303, 0.99928511352663985, 0.99934157999480444, 0.99908846059441969], \"Term\": [\"24th\", \"4\", \"5\", \"7c\", \"8\", \"8dbwg6mett\", \"8yzswk3f7o\", \"9\", \"aguhkh0s7k\", \"andre\", \"andre\", \"andre\", \"angelo\", \"anika\", \"anika\", \"anika\", \"as\", \"away\", \"away\", \"back\", \"back\", \"back\", \"bad\", \"bet\", \"better\", \"bikers4trump\", \"boo\", \"book\", \"borntowin\", \"building\", \"cjayytaughther\", \"cold\", \"come\", \"cookie\", \"cookie\", \"cookie\", \"cookie\", \"count\", \"crazy\", \"da\", \"damn\", \"deal\", \"dirt\", \"done\", \"draintheswamp\", \"dre\", \"dubois\", \"empire\", \"empire\", \"empire\", \"empire\", \"empire\", \"empirefox\", \"empirefox\", \"empirefox\", \"empirewednesday\", \"empirewednesday\", \"empirewednesday\", \"empirewednesday\", \"end\", \"enough\", \"epic\", \"episode\", \"episode\", \"episode\", \"ever\", \"evil\", \"fall\", \"family\", \"feelin\", \"feelin\", \"felizjueves\", \"fetty\", \"fifth\", \"finale\", \"finally\", \"finally\", \"find\", \"first\", \"fox\", \"fs9qlv0inl\", \"ft\", \"funeral\", \"fux\", \"gabbysidibe\", \"gave\", \"getting\", \"ghost\", \"giving\", \"go\", \"go\", \"gonna\", \"gonna\", \"gonna\", \"gotta\", \"hakeem\", \"happened\", \"harmony\", \"head\", \"head\", \"heart\", \"hit\", \"hoorah\", \"http\", \"http\", \"http\", \"imaginary\", \"insane\", \"insanity\", \"intervention\", \"jamal\", \"january\", \"jnjsj\", \"jussiesmollett\", \"jussiesmollett\", \"jussiesmollett\", \"kill\", \"l0d0ofuflq\", \"last\", \"leedanielsent\", \"left\", \"level\", \"life\", \"literally\", \"lol\", \"look\", \"lost\", \"love\", \"love\", \"loving\", \"lucious\", \"lucious\", \"lucious\", \"lucious\", \"luscious\", \"made\", \"mama\", \"man\", \"man\", \"march\", \"missed\", \"mother\", \"move\", \"much\", \"music\", \"n0hjnpdh9t\", \"need\", \"need\", \"nessa\", \"never\", \"neweditionbet\", \"night\", \"oh\", \"oh\", \"omg\", \"parody\", \"pay\", \"people\", \"pill\", \"pkwcuc3zop\", \"plan\", \"please\", \"plot\", \"poor\", \"prank\", \"premiere\", \"qce0u\", \"read\", \"ready\", \"real\", \"rehab\", \"return\", \"retweet\", \"rhonda\", \"right\", \"romantic\", \"rug\", \"ruin\", \"ruthless\", \"said\", \"scene\", \"season\", \"season\", \"secret\", \"sh\", \"shine\", \"shook\", \"show\", \"show\", \"show\", \"sick\", \"song\", \"sound\", \"special\", \"stage\", \"star\", \"start\", \"start\", \"still\", \"still\", \"sucking\", \"suynbkplxa\", \"take\", \"takeem\", \"talk\", \"tarhondajay\", \"tariq\", \"therealtaraji\", \"therealtaraji\", \"therealtaraji\", \"thing\", \"think\", \"tiana\", \"time\", \"time\", \"together\", \"tonight\", \"took\", \"ummm\", \"visit\", \"wait\", \"want\", \"wap\", \"watch\", \"well\", \"whole\"]}, \"mdsDat\": {\"y\": [0.068207040542684005, -0.19147383221523853, 0.086626161750628039, 0.21728923608421064, -0.18064860616228406], \"cluster\": [1, 1, 1, 1, 1], \"Freq\": [23.171835339527171, 20.099831808546259, 19.49396422081049, 19.316034188948517, 17.918334442167556], \"topics\": [1, 2, 3, 4, 5], \"x\": [-0.22255556514626257, 0.25830344254527093, -0.098984320180240948, 0.2126875216829382, -0.14945107890170611]}, \"R\": 30, \"lambda.step\": 0.01, \"tinfo\": {\"Category\": [\"Default\", \"Default\", \"Default\", \"Default\", \"Default\", \"Default\", \"Default\", \"Default\", \"Default\", \"Default\", \"Default\", \"Default\", \"Default\", \"Default\", \"Default\", \"Default\", \"Default\", \"Default\", \"Default\", \"Default\", \"Default\", \"Default\", \"Default\", \"Default\", \"Default\", \"Default\", \"Default\", \"Default\", \"Default\", \"Default\", \"Topic1\", \"Topic1\", \"Topic1\", \"Topic1\", \"Topic1\", \"Topic1\", \"Topic1\", \"Topic1\", \"Topic1\", \"Topic1\", \"Topic1\", \"Topic1\", \"Topic1\", \"Topic1\", \"Topic1\", \"Topic1\", \"Topic1\", \"Topic1\", \"Topic1\", \"Topic1\", \"Topic1\", \"Topic1\", \"Topic1\", \"Topic1\", \"Topic1\", \"Topic1\", \"Topic1\", \"Topic1\", \"Topic1\", \"Topic1\", \"Topic1\", \"Topic1\", \"Topic1\", \"Topic1\", \"Topic1\", \"Topic1\", \"Topic1\", \"Topic1\", \"Topic1\", \"Topic1\", \"Topic2\", \"Topic2\", \"Topic2\", \"Topic2\", \"Topic2\", \"Topic2\", \"Topic2\", \"Topic2\", \"Topic2\", \"Topic2\", \"Topic2\", \"Topic2\", \"Topic2\", \"Topic2\", \"Topic2\", \"Topic2\", \"Topic2\", \"Topic2\", \"Topic2\", \"Topic2\", \"Topic2\", \"Topic2\", \"Topic2\", \"Topic2\", \"Topic2\", \"Topic2\", \"Topic2\", \"Topic2\", \"Topic2\", \"Topic2\", \"Topic2\", \"Topic2\", \"Topic2\", \"Topic2\", \"Topic2\", \"Topic2\", \"Topic2\", \"Topic2\", \"Topic2\", \"Topic2\", \"Topic3\", \"Topic3\", \"Topic3\", \"Topic3\", \"Topic3\", \"Topic3\", \"Topic3\", \"Topic3\", \"Topic3\", \"Topic3\", \"Topic3\", \"Topic3\", \"Topic3\", \"Topic3\", \"Topic3\", \"Topic3\", \"Topic3\", \"Topic3\", \"Topic3\", \"Topic3\", \"Topic3\", \"Topic3\", \"Topic3\", \"Topic3\", \"Topic3\", \"Topic3\", \"Topic3\", \"Topic3\", \"Topic3\", \"Topic3\", \"Topic3\", \"Topic3\", \"Topic3\", \"Topic3\", \"Topic3\", \"Topic3\", \"Topic3\", \"Topic3\", \"Topic3\", \"Topic4\", \"Topic4\", \"Topic4\", \"Topic4\", \"Topic4\", \"Topic4\", \"Topic4\", \"Topic4\", \"Topic4\", \"Topic4\", \"Topic4\", \"Topic4\", \"Topic4\", \"Topic4\", \"Topic4\", \"Topic4\", \"Topic4\", \"Topic4\", \"Topic4\", \"Topic4\", \"Topic4\", \"Topic4\", \"Topic4\", \"Topic4\", \"Topic4\", \"Topic4\", \"Topic4\", \"Topic4\", \"Topic4\", \"Topic4\", \"Topic4\", \"Topic4\", \"Topic4\", \"Topic4\", \"Topic4\", \"Topic4\", \"Topic4\", \"Topic4\", \"Topic4\", \"Topic4\", \"Topic4\", \"Topic4\", \"Topic5\", \"Topic5\", \"Topic5\", \"Topic5\", \"Topic5\", \"Topic5\", \"Topic5\", \"Topic5\", \"Topic5\", \"Topic5\", \"Topic5\", \"Topic5\", \"Topic5\", \"Topic5\", \"Topic5\", \"Topic5\", \"Topic5\", \"Topic5\", \"Topic5\", \"Topic5\", \"Topic5\", \"Topic5\", \"Topic5\", \"Topic5\", \"Topic5\", \"Topic5\", \"Topic5\", \"Topic5\", \"Topic5\", \"Topic5\", \"Topic5\", \"Topic5\", \"Topic5\", \"Topic5\", \"Topic5\", \"Topic5\", \"Topic5\", \"Topic5\", \"Topic5\"], \"Term\": [\"http\", \"jamal\", \"star\", \"empirefox\", \"rhonda\", \"bet\", \"hakeem\", \"take\", \"finale\", \"felizjueves\", \"andre\", \"retweet\", \"fall\", \"heart\", \"luscious\", \"oh\", \"neweditionbet\", \"building\", \"january\", \"rehab\", \"sh\", \"24th\", \"l0d0ofuflq\", \"crazy\", \"start\", \"kill\", \"march\", \"damn\", \"lucious\", \"cookie\", \"star\", \"finale\", \"felizjueves\", \"fall\", \"tonight\", \"leedanielsent\", \"watch\", \"8\", \"premiere\", \"takeem\", \"special\", \"prank\", \"7c\", \"9\", \"ready\", \"together\", \"fox\", \"family\", \"better\", \"parody\", \"find\", \"night\", \"left\", \"music\", \"epic\", \"return\", \"harmony\", \"fifth\", \"wap\", \"fetty\", \"pkwcuc3zop\", \"ft\", \"8dbwg6mett\", \"http\", \"season\", \"empire\", \"head\", \"empirefox\", \"time\", \"lucious\", \"hakeem\", \"take\", \"crazy\", \"think\", \"cold\", \"angelo\", \"look\", \"tiana\", \"as\", \"lol\", \"right\", \"plan\", \"evil\", \"sound\", \"insane\", \"talk\", \"romantic\", \"real\", \"dirt\", \"ummm\", \"insanity\", \"da\", \"sucking\", \"fux\", \"rug\", \"secret\", \"gave\", \"deal\", \"dubois\", \"level\", \"fs9qlv0inl\", \"love\", \"andre\", \"back\", \"lucious\", \"empire\", \"away\", \"empirewednesday\", \"jussiesmollett\", \"cookie\", \"jamal\", \"retweet\", \"rehab\", \"kill\", \"stage\", \"tarhondajay\", \"never\", \"tariq\", \"thing\", \"scene\", \"8yzswk3f7o\", \"whole\", \"giving\", \"please\", \"mama\", \"song\", \"visit\", \"move\", \"end\", \"borntowin\", \"hoorah\", \"aguhkh0s7k\", \"draintheswamp\", \"qce0u\", \"bikers4trump\", \"n0hjnpdh9t\", \"literally\", \"loving\", \"poor\", \"imaginary\", \"empirefox\", \"finally\", \"empire\", \"jussiesmollett\", \"cookie\", \"http\", \"man\", \"lucious\", \"go\", \"luscious\", \"damn\", \"march\", \"wait\", \"pill\", \"come\", \"life\", \"people\", \"lost\", \"done\", \"enough\", \"boo\", \"jnjsj\", \"dre\", \"shook\", \"first\", \"much\", \"sick\", \"feelin\", \"ruthless\", \"took\", \"gotta\", \"ruin\", \"bad\", \"plot\", \"intervention\", \"hit\", \"mother\", \"getting\", \"count\", \"need\", \"empire\", \"still\", \"andre\", \"cookie\", \"episode\", \"go\", \"lucious\", \"therealtaraji\", \"empirewednesday\", \"show\", \"jussiesmollett\", \"rhonda\", \"bet\", \"heart\", \"neweditionbet\", \"building\", \"january\", \"24th\", \"sh\", \"l0d0ofuflq\", \"shine\", \"well\", \"made\", \"want\", \"nessa\", \"happened\", \"gabbysidibe\", \"5\", \"funeral\", \"last\", \"pay\", \"ghost\", \"suynbkplxa\", \"ever\", \"read\", \"book\", \"4\", \"cjayytaughther\", \"omg\", \"said\", \"missed\", \"oh\", \"start\", \"http\", \"empire\", \"anika\", \"andre\", \"empirefox\", \"time\", \"gonna\"], \"loglift\": [30.0, 29.0, 28.0, 27.0, 26.0, 25.0, 24.0, 23.0, 22.0, 21.0, 20.0, 19.0, 18.0, 17.0, 16.0, 15.0, 14.0, 13.0, 12.0, 11.0, 10.0, 9.0, 8.0, 7.0, 6.0, 5.0, 4.0, 3.0, 2.0, 1.0, 1.4621, 1.462, 1.4619, 1.4619, 1.4617, 1.4615, 1.4614, 1.4613, 1.4612000000000001, 1.4612000000000001, 1.4612000000000001, 1.4612000000000001, 1.4611000000000001, 1.4611000000000001, 1.4610000000000001, 1.4609000000000001, 1.4609000000000001, 1.4609000000000001, 1.4608000000000001, 1.4607000000000001, 1.4607000000000001, 1.4607000000000001, 1.4605999999999999, 1.4604999999999999, 1.4604999999999999, 1.4603999999999999, 1.4602999999999999, 1.4602999999999999, 1.4602999999999999, 1.4602999999999999, 1.4599, 1.4601999999999999, 1.4601999999999999, 0.7419, 1.2444, -0.1421, 1.3141, 0.23169999999999999, 0.90990000000000004, -0.99890000000000001, 1.6042000000000001, 1.6042000000000001, 1.6040000000000001, 1.6039000000000001, 1.6037999999999999, 1.6036999999999999, 1.6035999999999999, 1.6035999999999999, 1.6034999999999999, 1.6034999999999999, 1.6034999999999999, 1.6032999999999999, 1.6032999999999999, 1.6032999999999999, 1.6032999999999999, 1.6032, 1.6032, 1.6032, 1.6032, 1.6031, 1.6031, 1.603, 1.603, 1.6029, 1.6028, 1.6027, 1.6026, 1.6026, 1.6025, 1.6025, 1.6020000000000001, 1.3798999999999999, 0.75190000000000001, 1.2050000000000001, 0.72140000000000004, -0.090800000000000006, 1.4615, 0.6825, 0.30449999999999999, -0.4451, 1.635, 1.6347, 1.6346000000000001, 1.6346000000000001, 1.6345000000000001, 1.6344000000000001, 1.6344000000000001, 1.6343000000000001, 1.6343000000000001, 1.6341000000000001, 1.6341000000000001, 1.6341000000000001, 1.6341000000000001, 1.6341000000000001, 1.6339999999999999, 1.6336999999999999, 1.6336999999999999, 1.6336999999999999, 1.6335999999999999, 1.6335999999999999, 1.6335, 1.6335, 1.6335, 1.6335, 1.6335, 1.6334, 1.6334, 1.6333, 1.6332, 1.6332, 1.0502, 1.4076, 0.2001, 1.0307999999999999, 0.88649999999999995, 0.3085, 1.2426999999999999, 0.34060000000000001, 0.98670000000000002, 1.6438999999999999, 1.6437999999999999, 1.6436999999999999, 1.6436999999999999, 1.6435999999999999, 1.6435999999999999, 1.6435999999999999, 1.6434, 1.6433, 1.6433, 1.6432, 1.6431, 1.6431, 1.6431, 1.643, 1.643, 1.6429, 1.6428, 1.6426000000000001, 1.6426000000000001, 1.6425000000000001, 1.6424000000000001, 1.6423000000000001, 1.6423000000000001, 1.6423000000000001, 1.6422000000000001, 1.6422000000000001, 1.6420999999999999, 1.6420999999999999, 1.6420999999999999, 1.2467999999999999, 0.058299999999999998, 1.3311999999999999, 0.33379999999999999, 0.5, 1.0865, 0.90349999999999997, 0.16170000000000001, 1.2503, 0.60460000000000003, 0.95809999999999995, -0.065600000000000006, 1.7191000000000001, 1.7191000000000001, 1.7189000000000001, 1.7189000000000001, 1.7189000000000001, 1.7189000000000001, 1.7189000000000001, 1.7189000000000001, 1.7189000000000001, 1.7185999999999999, 1.7184999999999999, 1.7183999999999999, 1.7182999999999999, 1.7182999999999999, 1.7181999999999999, 1.7181999999999999, 1.718, 1.718, 1.718, 1.7178, 1.7177, 1.7177, 1.7176, 1.7175, 1.7175, 1.7174, 1.7174, 1.7171000000000001, 1.7171000000000001, 1.7171000000000001, 1.6243000000000001, 1.6305000000000001, 0.3251, -0.037699999999999997, 1.2228000000000001, 0.52849999999999997, -0.17369999999999999, 0.86129999999999995, 1.0469999999999999], \"Freq\": [28298.0, 6310.0, 6770.0, 13236.0, 3328.0, 3184.0, 3194.0, 3093.0, 3081.0, 2764.0, 6968.0, 2014.0, 2226.0, 1863.0, 1858.0, 2035.0, 1655.0, 1612.0, 1561.0, 1620.0, 1536.0, 1535.0, 1523.0, 1631.0, 1753.0, 1499.0, 1469.0, 1455.0, 6103.0, 4702.0, 6769.8654554613058, 3080.5906859842839, 2763.2002957203949, 2225.8286414451368, 1467.2656343567669, 1127.0411575093774, 909.85340426225684, 831.42846805948795, 803.12604675347779, 767.16112823452352, 748.21060782925588, 770.68699573757658, 709.4015750015684, 700.65894439504484, 630.11602617314907, 585.39203104065268, 582.206719121226, 586.84649973948842, 558.21430849171259, 532.25311770068834, 529.36674065659315, 522.6297167415629, 488.55880475641328, 460.12690203309188, 445.22210655445213, 431.51635757751188, 407.68201884201744, 407.68201884201744, 408.25604599784498, 408.25604599784498, 447.23452635378322, 423.17593028916866, 416.61697212665837, 13769.215436097378, 916.55630576359226, 10810.231393806316, 568.91975620218716, 3866.9122656173663, 945.30236165691679, 520.92766372075221, 3193.9936960593732, 3092.4516141676058, 1631.2413532548983, 1272.1005133410886, 1163.1081351091284, 889.22876278214267, 834.28410902906467, 780.10587309133575, 781.72886820524138, 763.21590463829443, 736.91187943900877, 622.09093739737364, 614.4729242208939, 601.19082789176036, 599.86333146143124, 575.58607995417947, 571.89523286794645, 565.18948443422698, 538.91013032763294, 517.65891285679197, 523.58636637319785, 486.17073728391341, 469.49816906284798, 449.93519510065425, 434.72638760447433, 425.85409788047804, 386.24144737482555, 371.62920065788404, 366.70701770448704, 363.38308631982648, 372.301016517508, 1161.4339928336176, 2970.6234267210143, 908.88217026221196, 2524.1963802914647, 9871.1995412379165, 497.24216594702824, 799.10445360265521, 819.31120263563014, 605.65835687992012, 6309.7388656552966, 2013.914934971323, 1619.4317740911395, 1498.6526836691171, 1258.1588567425181, 1130.1216741475264, 1088.8469651123985, 957.52266909636137, 994.54936725644245, 785.80428722656063, 747.7884050964459, 782.96200393053834, 758.91428541207426, 744.06679528395762, 709.79888032063445, 545.36530595176794, 518.88517820612617, 514.79010855064735, 502.03124526816669, 483.20025990627903, 471.37611844353393, 456.33881532125656, 456.33881532125656, 454.23246489210288, 454.23246489210288, 434.05963050288182, 427.7056393475205, 398.50901186713241, 383.87451246263407, 380.34113029269923, 7375.1553660270174, 944.51195997211892, 12805.418190896149, 1642.8118950948456, 2224.6086203871168, 7510.0328348299681, 736.87935171047991, 1672.7799227061123, 851.2497150642522, 1857.5165781243265, 1455.1585873719139, 1469.187080474376, 1286.6627882087887, 1165.7691774169336, 1128.7717945498018, 1124.0905344426665, 941.37670403104835, 757.61576936955203, 751.56691389113041, 787.27711618760839, 620.61820165299014, 622.24443144152212, 594.95157343844551, 854.40741093621568, 550.39782455068166, 517.05005516721576, 500.93512117158815, 768.82968861102722, 434.68650584354526, 397.88366455784393, 384.79413667601955, 366.24092218290406, 360.79329587170048, 369.17439281941444, 351.07373755890671, 419.30635858401286, 331.91995618584644, 328.46372814947631, 332.32757124012949, 923.37677153538573, 11011.574964891837, 641.73416236601804, 1879.2952287443304, 1497.662926553995, 664.3689213803782, 776.13034376036489, 1385.9166322976189, 543.28787448822459, 710.4458509834418, 549.21551408481469, 543.78606723657265, 3328.1793694627208, 3183.561291188264, 1863.1097430174268, 1654.5206752603669, 1611.2812387659783, 1561.0780299062012, 1535.0217519015341, 1535.5403750268786, 1523.1323961537241, 1058.0038314940643, 880.82688428536983, 898.70716900548098, 718.33832579107229, 694.1729146251563, 662.8979701667846, 705.37216901904128, 594.8895171002049, 553.13942473766372, 562.17123950920347, 480.07343224502222, 467.45781163648383, 456.84119271061434, 433.08427504231713, 410.67834713820235, 409.25079191196392, 402.57206128808281, 392.31831257788963, 354.12477345331331, 342.84281282043793, 332.84028406800172, 1851.1655918776421, 1604.2616046745466, 7018.6988206699616, 9279.3929470809489, 843.4034120963039, 2118.0302099956657, 1993.5176429887654, 696.33996396441171, 469.04309980510158], \"Total\": [28298.0, 6310.0, 6770.0, 13236.0, 3328.0, 3184.0, 3194.0, 3093.0, 3081.0, 2764.0, 6968.0, 2014.0, 2226.0, 1863.0, 1858.0, 2035.0, 1655.0, 1612.0, 1561.0, 1620.0, 1536.0, 1535.0, 1523.0, 1631.0, 1753.0, 1499.0, 1469.0, 1455.0, 6103.0, 4702.0, 6770.6719553166804, 3081.385892674668, 2764.0184553469398, 2226.6231118000619, 1468.0624881559866, 1127.8366840276112, 910.65101209049521, 832.22033395768563, 803.91782892540459, 767.95943645936745, 749.00195758017605, 771.50320947720979, 710.1924352316513, 701.45897631611911, 630.91331542115461, 586.19064404293295, 583.00505933188117, 587.65177994373232, 559.01721680725518, 533.04376068394481, 530.16898358309754, 523.44286810294284, 489.37695272965419, 460.93007949176933, 446.01397663442964, 432.31352835246196, 408.47266464901026, 408.47266464901026, 409.04889272274227, 409.04889272274227, 448.29866833887451, 424.01869669724528, 417.48530350273137, 28298.3876710773, 1139.6734009806685, 53777.817037913162, 659.75190823546188, 13236.023782426892, 1642.2809386226654, 6103.9865633954978, 3194.7360375967824, 3093.2573163475181, 1631.952483136628, 1272.807184419062, 1163.830965600388, 889.93915935383893, 834.99834199150905, 780.81229596063497, 782.44106051237475, 763.92135110574702, 737.62035068295859, 622.793964949062, 615.17418528351504, 601.89228422604651, 600.5634097198523, 576.28747914875544, 572.59531440937178, 565.89626402213787, 539.6132891198074, 518.36176257305226, 524.30885276383697, 486.87118433798645, 470.20064541248348, 450.63465974332524, 435.42807653773156, 426.58312878684353, 386.96592791098089, 372.33500621279285, 367.4147230813075, 364.08589914185336, 373.20398555294554, 1453.8144626642636, 6968.2729428581479, 1355.0957852984923, 6103.9865633954978, 53777.817037913162, 573.63272881231251, 2009.1787369120796, 3006.1966268368283, 4702.5461634406765, 6310.4574458364568, 2014.6379100614472, 1620.1592003825845, 1499.3911549225234, 1258.8811447756016, 1130.8387813494155, 1089.5703782647115, 958.24498153652132, 995.30773076262278, 786.52645057271559, 748.50245161400528, 783.71438654605697, 759.64637064108945, 744.78653611609502, 710.53267070488528, 546.09533269318285, 519.60271365745746, 515.51892319509886, 502.76789931159061, 483.91714344061347, 472.09136623756666, 457.05348035264194, 457.05348035264194, 454.94708672058152, 454.94708672058152, 434.77264546244612, 428.4227097815866, 399.23164058796635, 384.59109911808298, 381.05764949528856, 13236.023782426892, 1185.7704162729456, 53777.817037913162, 3006.1966268368283, 4702.5461634406765, 28298.3876710773, 1090.9489509409345, 6103.9865633954978, 1627.8815156498979, 1858.2144523524692, 1455.8580494530797, 1469.9161322463056, 1287.3595855614801, 1166.4679002225246, 1129.4734320445284, 1124.7969207476783, 942.11572448403035, 758.31742602506495, 752.26778156185526, 788.11693816589354, 621.31196480237804, 622.94720878747091, 595.65150241709318, 855.45289547512664, 551.09701001951407, 517.76120339973113, 501.63000941231849, 770.05757139433967, 435.39478365540782, 398.58319962785589, 385.48995409166361, 366.93456359177014, 361.49208259437859, 369.89012811273233, 351.79110208782907, 420.17013815061279, 332.6232320423203, 329.16406928580187, 333.04643981571644, 1373.988897277648, 53777.817037913162, 877.65589479554592, 6968.2729428581479, 4702.5461634406765, 1160.4286500907033, 1627.8815156498979, 6103.9865633954978, 805.56638135816468, 2009.1787369120796, 1090.7602235384793, 3006.1966268368283, 3328.938635567848, 3184.3123344372602, 1863.8628547555716, 1655.2717600625583, 1612.0316353770868, 1561.8278310544083, 1535.7710053185899, 1536.2899580910789, 1523.8816284629004, 1058.764015711381, 881.58045020460406, 899.52953980677717, 719.0906002753361, 694.93332844342933, 663.64703912270829, 706.1829936709529, 595.67465139106923, 553.88829809923902, 562.94662225415425, 480.8211449802925, 468.20900445227494, 457.58835554032123, 433.84064078642473, 411.43319614827038, 410.00450432548058, 403.33622164309185, 393.0739910234193, 354.90368670096564, 343.60345289493, 333.60428035927032, 2035.6622761247138, 1753.2986928312564, 28298.3876710773, 53777.817037913162, 1385.8095929352423, 6968.2729428581479, 13236.023782426892, 1642.2809386226654, 918.80482287739039], \"logprob\": [30.0, 29.0, 28.0, 27.0, 26.0, 25.0, 24.0, 23.0, 22.0, 21.0, 20.0, 19.0, 18.0, 17.0, 16.0, 15.0, 14.0, 13.0, 12.0, 11.0, 10.0, 9.0, 8.0, 7.0, 6.0, 5.0, 4.0, 3.0, 2.0, 1.0, -2.7818999999999998, -3.5693000000000001, -3.6779999999999999, -3.8942999999999999, -4.3109999999999999, -4.5747999999999998, -4.7888999999999999, -4.8789999999999996, -4.9137000000000004, -4.9595000000000002, -4.9844999999999997, -4.9549000000000003, -5.0377000000000001, -5.0500999999999996, -5.1562999999999999, -5.2298999999999998, -5.2352999999999996, -5.2274000000000003, -5.2774000000000001, -5.3250000000000002, -5.3304999999999998, -5.3433000000000002, -5.4107000000000003, -5.4706999999999999, -5.5035999999999996, -5.5349000000000004, -5.5917000000000003, -5.5917000000000003, -5.5903, -5.5903, -5.4991000000000003, -5.5544000000000002, -5.5700000000000003, -2.0720000000000001, -4.7815000000000003, -2.3138999999999998, -5.2584, -3.3420000000000001, -4.7507000000000001, -5.3465999999999996, -3.3908999999999998, -3.4232, -4.0628000000000002, -4.3114999999999997, -4.4010999999999996, -4.6696, -4.7333999999999996, -4.8005000000000004, -4.7984, -4.8224, -4.8574999999999999, -5.0269000000000004, -5.0392000000000001, -5.0609999999999999, -5.0632000000000001, -5.1044999999999998, -5.1109999999999998, -5.1227999999999998, -5.1703999999999999, -5.2106000000000003, -5.1992000000000003, -5.2733999999999996, -5.3083, -5.3507999999999996, -5.3852000000000002, -5.4058000000000002, -5.5034999999999998, -5.5419999999999998, -5.5553999999999997, -5.5644999999999998, -5.5401999999999996, -4.4024999999999999, -3.4634, -4.6477000000000004, -3.6263000000000001, -2.2625999999999999, -5.2508999999999997, -4.7763999999999998, -4.7515000000000001, -5.0536000000000003, -2.6795, -3.8214999999999999, -4.0395000000000003, -4.117, -4.2919, -4.3993000000000002, -4.4364999999999997, -4.5650000000000004, -4.5270000000000001, -4.7625999999999999, -4.8121999999999998, -4.7662000000000004, -4.7973999999999997, -4.8171999999999997, -4.8643999999999998, -5.1279000000000003, -5.1776, -5.1856, -5.2107000000000001, -5.2488999999999999, -5.2736999999999998, -5.3060999999999998, -5.3060999999999998, -5.3106999999999998, -5.3106999999999998, -5.3562000000000003, -5.3708999999999998, -5.4416000000000002, -5.4790000000000001, -5.4882999999999997, -2.5234999999999999, -4.5787000000000004, -1.9717, -4.0251999999999999, -3.722, -2.5053000000000001, -4.8269000000000002, -4.0071000000000003, -4.6825999999999999, -3.8932000000000002, -4.1372999999999998, -4.1276999999999999, -4.2603999999999997, -4.359, -4.3913000000000002, -4.3954000000000004, -4.5728, -4.79, -4.798, -4.7515999999999998, -4.9893999999999998, -4.9867999999999997, -5.0316999999999998, -4.6698000000000004, -5.1094999999999997, -5.1719999999999997, -5.2037000000000004, -4.7752999999999997, -5.3455000000000004, -5.4340000000000002, -5.4675000000000002, -5.5168999999999997, -5.5319000000000003, -5.5088999999999997, -5.5591999999999997, -5.3815999999999997, -5.6153000000000004, -5.6257000000000001, -5.6139999999999999, -4.5921000000000003, -2.1135000000000002, -4.9560000000000004, -3.8815, -4.1085000000000003, -4.9212999999999996, -4.7657999999999996, -4.1859999999999999, -5.1224999999999996, -4.8543000000000003, -5.1116999999999999, -5.1215999999999999, -3.2349000000000001, -3.2793000000000001, -3.8149999999999999, -3.9338000000000002, -3.9603000000000002, -3.9918999999999998, -4.0087999999999999, -4.0084, -4.0164999999999997, -4.3808999999999996, -4.5641999999999996, -4.5441000000000003, -4.7680999999999996, -4.8022999999999998, -4.8483999999999998, -4.7862999999999998, -4.9566999999999997, -5.0293999999999999, -5.0132000000000003, -5.1711, -5.1977000000000002, -5.2206999999999999, -5.2740999999999998, -5.3272000000000004, -5.3307000000000002, -5.3472, -5.3730000000000002, -5.4753999999999996, -5.5077999999999996, -5.5373999999999999, -3.8214999999999999, -3.9645999999999999, -2.4887000000000001, -2.2094999999999998, -4.6075999999999997, -3.6867999999999999, -3.7473999999999998, -4.7991999999999999, -5.1943999999999999]}};\n",
       "\n",
       "function LDAvis_load_lib(url, callback){\n",
       "  var s = document.createElement('script');\n",
       "  s.src = url;\n",
       "  s.async = true;\n",
       "  s.onreadystatechange = s.onload = callback;\n",
       "  s.onerror = function(){console.warn(\"failed to load library \" + url);};\n",
       "  document.getElementsByTagName(\"head\")[0].appendChild(s);\n",
       "}\n",
       "\n",
       "if(typeof(LDAvis) !== \"undefined\"){\n",
       "   // already loaded: just create the visualization\n",
       "   !function(LDAvis){\n",
       "       new LDAvis(\"#\" + \"ldavis_el4105170002084643338967997\", ldavis_el4105170002084643338967997_data);\n",
       "   }(LDAvis);\n",
       "}else if(typeof define === \"function\" && define.amd){\n",
       "   // require.js is available: use it to load d3/LDAvis\n",
       "   require.config({paths: {d3: \"https://cdnjs.cloudflare.com/ajax/libs/d3/3.5.5/d3.min\"}});\n",
       "   require([\"d3\"], function(d3){\n",
       "      window.d3 = d3;\n",
       "      LDAvis_load_lib(\"https://cdn.rawgit.com/bmabey/pyLDAvis/files/ldavis.v1.0.0.js\", function(){\n",
       "        new LDAvis(\"#\" + \"ldavis_el4105170002084643338967997\", ldavis_el4105170002084643338967997_data);\n",
       "      });\n",
       "    });\n",
       "}else{\n",
       "    // require.js not available: dynamically load d3 & LDAvis\n",
       "    LDAvis_load_lib(\"https://cdnjs.cloudflare.com/ajax/libs/d3/3.5.5/d3.min.js\", function(){\n",
       "         LDAvis_load_lib(\"https://cdn.rawgit.com/bmabey/pyLDAvis/files/ldavis.v1.0.0.js\", function(){\n",
       "                 new LDAvis(\"#\" + \"ldavis_el4105170002084643338967997\", ldavis_el4105170002084643338967997_data);\n",
       "            })\n",
       "         });\n",
       "}\n",
       "</script>"
      ],
      "text/plain": [
       "<IPython.core.display.HTML object>"
      ]
     },
     "execution_count": 29,
     "metadata": {},
     "output_type": "execute_result"
    }
   ],
   "source": [
    "lda = models.LdaModel.load('Twitter/output/document_t5.lda')\n",
    "topic_data =  pyLDAvis.gensim.prepare(lda, corpus, dictionary)\n",
    "pyLDAvis.display(topic_data)"
   ]
  },
  {
   "cell_type": "code",
   "execution_count": 30,
   "metadata": {
    "collapsed": false
   },
   "outputs": [
    {
     "data": {
      "text/plain": [
       "[(0,\n",
       "  u'0.110*\"empire\" + 0.083*\"http\" + 0.039*\"rhonda\" + 0.038*\"bet\" + 0.025*\"andre\" + 0.024*\"empirefox\" + 0.022*\"heart\" + 0.022*\"oh\" + 0.020*\"neweditionbet\" + 0.019*\"building\"'),\n",
       " (1,\n",
       "  u'0.104*\"empire\" + 0.034*\"hakeem\" + 0.033*\"take\" + 0.031*\"andre\" + 0.027*\"lucious\" + 0.017*\"crazy\" + 0.013*\"think\" + 0.012*\"cold\" + 0.012*\"love\" + 0.010*\"back\"'),\n",
       " (2,\n",
       "  u'0.121*\"empire\" + 0.021*\"andre\" + 0.020*\"luscious\" + 0.016*\"cookie\" + 0.016*\"march\" + 0.016*\"damn\" + 0.015*\"lucious\" + 0.014*\"wait\" + 0.013*\"pill\" + 0.012*\"come\"'),\n",
       " (3,\n",
       "  u'0.139*\"empire\" + 0.082*\"http\" + 0.080*\"empirefox\" + 0.069*\"jamal\" + 0.024*\"cookie\" + 0.022*\"retweet\" + 0.018*\"lucious\" + 0.018*\"jussiesmollett\" + 0.018*\"rehab\" + 0.016*\"kill\"'),\n",
       " (4,\n",
       "  u'0.126*\"http\" + 0.099*\"empire\" + 0.062*\"star\" + 0.035*\"empirefox\" + 0.028*\"finale\" + 0.025*\"felizjueves\" + 0.020*\"fall\" + 0.013*\"tonight\" + 0.010*\"leedanielsent\" + 0.009*\"time\"')]"
      ]
     },
     "execution_count": 30,
     "metadata": {},
     "output_type": "execute_result"
    }
   ],
   "source": [
    "lda.show_topics()"
   ]
  },
  {
   "cell_type": "code",
   "execution_count": null,
   "metadata": {
    "collapsed": true
   },
   "outputs": [],
   "source": []
  }
 ],
 "metadata": {
  "anaconda-cloud": {},
  "kernelspec": {
   "display_name": "Python [conda root]",
   "language": "python",
   "name": "conda-root-py"
  },
  "language_info": {
   "codemirror_mode": {
    "name": "ipython",
    "version": 2
   },
   "file_extension": ".py",
   "mimetype": "text/x-python",
   "name": "python",
   "nbconvert_exporter": "python",
   "pygments_lexer": "ipython2",
   "version": "2.7.12"
  }
 },
 "nbformat": 4,
 "nbformat_minor": 1
}
